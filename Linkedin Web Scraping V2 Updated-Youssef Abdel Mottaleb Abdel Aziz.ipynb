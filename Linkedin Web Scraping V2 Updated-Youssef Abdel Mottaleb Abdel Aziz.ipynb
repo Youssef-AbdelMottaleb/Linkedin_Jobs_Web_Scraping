{
 "cells": [
  {
   "cell_type": "code",
   "execution_count": 1,
   "id": "edf3281f",
   "metadata": {},
   "outputs": [
    {
     "data": {
      "text/html": [
       "        <script type=\"text/javascript\">\n",
       "        window.PlotlyConfig = {MathJaxConfig: 'local'};\n",
       "        if (window.MathJax && window.MathJax.Hub && window.MathJax.Hub.Config) {window.MathJax.Hub.Config({SVG: {font: \"STIX-Web\"}});}\n",
       "        if (typeof require !== 'undefined') {\n",
       "        require.undef(\"plotly\");\n",
       "        requirejs.config({\n",
       "            paths: {\n",
       "                'plotly': ['https://cdn.plot.ly/plotly-2.14.0.min']\n",
       "            }\n",
       "        });\n",
       "        require(['plotly'], function(Plotly) {\n",
       "            window._Plotly = Plotly;\n",
       "        });\n",
       "        }\n",
       "        </script>\n",
       "        "
      ]
     },
     "metadata": {},
     "output_type": "display_data"
    }
   ],
   "source": [
    "import warnings\n",
    "warnings.filterwarnings(\"ignore\")\n",
    "import pandas as pd\n",
    "import requests\n",
    "from bs4 import BeautifulSoup\n",
    "import nltk\n",
    "import plotly.graph_objs as go \n",
    "from plotly.offline import init_notebook_mode,iplot,plot\n",
    "init_notebook_mode(connected=True)\n",
    "import plotly.express as px\n",
    "import seaborn as sns\n",
    "import matplotlib.pyplot as plt\n",
    "import pandas as pd"
   ]
  },
  {
   "cell_type": "code",
   "execution_count": 2,
   "id": "fac1ff2b",
   "metadata": {},
   "outputs": [],
   "source": [
    "def getJobLinks(pageUrl):\n",
    "    jobLinks    = []\n",
    "    data     = requests.get(pageUrl).text\n",
    "    soup     = BeautifulSoup(data)\n",
    "    links = soup.findAll('a',attrs={'class':'base-card__full-link absolute top-0 right-0 bottom-0 left-0 p-0 z-[2]'})\n",
    "    \n",
    "    for link in links:\n",
    "        jobLinks.append(link['href'])\n",
    "    return jobLinks"
   ]
  },
  {
   "cell_type": "code",
   "execution_count": 3,
   "id": "d8bc62db",
   "metadata": {},
   "outputs": [
    {
     "data": {
      "text/plain": [
       "['https://eg.linkedin.com/jobs/view/data-analyst-at-axis-3276745296?refId=8q%2F7oifJCsn2L2CJYvWSpQ%3D%3D&trackingId=ecJ%2Fv83c1JSCjLBDt3Gqlg%3D%3D&position=1&pageNum=0&trk=public_jobs_jserp-result_search-card',\n",
       " 'https://eg.linkedin.com/jobs/view/data-analyst-at-moneyfellows-3124732696?refId=8q%2F7oifJCsn2L2CJYvWSpQ%3D%3D&trackingId=EUFF%2BLd6OHluWc0Lc4euJQ%3D%3D&position=2&pageNum=0&trk=public_jobs_jserp-result_search-card',\n",
       " 'https://eg.linkedin.com/jobs/view/data-bi-analyst-at-klivvr-3261615002?refId=8q%2F7oifJCsn2L2CJYvWSpQ%3D%3D&trackingId=58lOI5jiGQogsHnSDODGQA%3D%3D&position=3&pageNum=0&trk=public_jobs_jserp-result_search-card',\n",
       " 'https://eg.linkedin.com/jobs/view/data-analyst-at-olx-egypt-3179910275?refId=8q%2F7oifJCsn2L2CJYvWSpQ%3D%3D&trackingId=2TmUQ5b7sP8qf88lYalnAQ%3D%3D&position=4&pageNum=0&trk=public_jobs_jserp-result_search-card',\n",
       " 'https://eg.linkedin.com/jobs/view/data-visualization-associate-at-antal-international-3249531140?refId=8q%2F7oifJCsn2L2CJYvWSpQ%3D%3D&trackingId=lhDTpwP0EAwfhI8uxE%2F4YA%3D%3D&position=5&pageNum=0&trk=public_jobs_jserp-result_search-card',\n",
       " 'https://eg.linkedin.com/jobs/view/business-intelligence-analyst-at-vodafone-3297633895?refId=8q%2F7oifJCsn2L2CJYvWSpQ%3D%3D&trackingId=GuCaL8jC6Rti6NlfJ3DXiA%3D%3D&position=6&pageNum=0&trk=public_jobs_jserp-result_search-card',\n",
       " 'https://eg.linkedin.com/jobs/view/customer-insights-analyst-at-etisalat-egypt-3300575905?refId=8q%2F7oifJCsn2L2CJYvWSpQ%3D%3D&trackingId=hGrGYBvStywNGSxpQWIc9w%3D%3D&position=7&pageNum=0&trk=public_jobs_jserp-result_search-card',\n",
       " 'https://eg.linkedin.com/jobs/view/data-analyst-at-koinz-3262867717?refId=8q%2F7oifJCsn2L2CJYvWSpQ%3D%3D&trackingId=ExmiiX5QHP8uSpXuLpAUhg%3D%3D&position=8&pageNum=0&trk=public_jobs_jserp-result_search-card',\n",
       " 'https://eg.linkedin.com/jobs/view/senior-data-analyst-at-floward-3259744312?refId=8q%2F7oifJCsn2L2CJYvWSpQ%3D%3D&trackingId=nZuFGBQvi0ixeYnVgH5O2g%3D%3D&position=9&pageNum=0&trk=public_jobs_jserp-result_search-card',\n",
       " 'https://eg.linkedin.com/jobs/view/senior-data-analyst-at-nawy-3303110561?refId=8q%2F7oifJCsn2L2CJYvWSpQ%3D%3D&trackingId=4AW7ZlmHqxuRpwwOxP6hRQ%3D%3D&position=10&pageNum=0&trk=public_jobs_jserp-result_search-card',\n",
       " 'https://eg.linkedin.com/jobs/view/data-engineer-at-halan-%D8%AD%D8%A7%D9%84%D8%A7-3290808947?refId=8q%2F7oifJCsn2L2CJYvWSpQ%3D%3D&trackingId=UvN6iRgWs4Aopj7RnDBEDw%3D%3D&position=11&pageNum=0&trk=public_jobs_jserp-result_search-card',\n",
       " 'https://eg.linkedin.com/jobs/view/data-warehouse-analyst-at-shezlong-3293886140?refId=8q%2F7oifJCsn2L2CJYvWSpQ%3D%3D&trackingId=IwhVuGe7wuRVnJbNKyX4MQ%3D%3D&position=12&pageNum=0&trk=public_jobs_jserp-result_search-card',\n",
       " 'https://eg.linkedin.com/jobs/view/project-analytic-at-ericsson-3283333279?refId=8q%2F7oifJCsn2L2CJYvWSpQ%3D%3D&trackingId=Yf0YEbSFTza7n1BXzaRHHA%3D%3D&position=13&pageNum=0&trk=public_jobs_jserp-result_search-card',\n",
       " 'https://eg.linkedin.com/jobs/view/bi-modeling-specialist-at-vodafone-3297632903?refId=8q%2F7oifJCsn2L2CJYvWSpQ%3D%3D&trackingId=Xqi5%2FfDE5jiz0ELg5bUGeg%3D%3D&position=14&pageNum=0&trk=public_jobs_jserp-result_search-card',\n",
       " 'https://eg.linkedin.com/jobs/view/senior-data-analyst-at-fatura-%D9%81%D8%A7%D8%AA%D9%88%D8%B1%D8%A9-3285963188?refId=8q%2F7oifJCsn2L2CJYvWSpQ%3D%3D&trackingId=PNc5vXGI1Zshrqwt6zKyMA%3D%3D&position=15&pageNum=0&trk=public_jobs_jserp-result_search-card',\n",
       " 'https://eg.linkedin.com/jobs/view/senior-data-analyst-at-maxab-3284688280?refId=8q%2F7oifJCsn2L2CJYvWSpQ%3D%3D&trackingId=bj6csGWTWYpl8ksnz4IkRQ%3D%3D&position=16&pageNum=0&trk=public_jobs_jserp-result_search-card',\n",
       " 'https://eg.linkedin.com/jobs/view/data-engineer-at-nagwa-3293382604?refId=8q%2F7oifJCsn2L2CJYvWSpQ%3D%3D&trackingId=WG9CaIeLwwSkyE9IECIPgA%3D%3D&position=17&pageNum=0&trk=public_jobs_jserp-result_search-card',\n",
       " 'https://eg.linkedin.com/jobs/view/operations-data-analyst-poe-at-souq-com-3282224479?refId=8q%2F7oifJCsn2L2CJYvWSpQ%3D%3D&trackingId=B6joy06Lxj3dN2vDg2Ptfg%3D%3D&position=18&pageNum=0&trk=public_jobs_jserp-result_search-card',\n",
       " 'https://eg.linkedin.com/jobs/view/bi-system-senior-analyst-at-etisalat-egypt-3285571007?refId=8q%2F7oifJCsn2L2CJYvWSpQ%3D%3D&trackingId=A532xP6XDP1FUB2YAex%2Bmw%3D%3D&position=19&pageNum=0&trk=public_jobs_jserp-result_search-card',\n",
       " 'https://eg.linkedin.com/jobs/view/data-engineer-at-zeal-3298890396?refId=8q%2F7oifJCsn2L2CJYvWSpQ%3D%3D&trackingId=9UO22QLKGbVlduTdl4SoLA%3D%3D&position=20&pageNum=0&trk=public_jobs_jserp-result_search-card',\n",
       " 'https://eg.linkedin.com/jobs/view/senior-data-analyst-at-bosta-3279240179?refId=8q%2F7oifJCsn2L2CJYvWSpQ%3D%3D&trackingId=abFuwHXPfQQBwP6INYETcA%3D%3D&position=21&pageNum=0&trk=public_jobs_jserp-result_search-card',\n",
       " 'https://eg.linkedin.com/jobs/view/digital-forensics-incident-response-dfir-analyst-at-misr-technology-services-3134479333?refId=8q%2F7oifJCsn2L2CJYvWSpQ%3D%3D&trackingId=rVwHAYwFcyMXGEz7%2Fu3PJg%3D%3D&position=22&pageNum=0&trk=public_jobs_jserp-result_search-card',\n",
       " 'https://eg.linkedin.com/jobs/view/senior-data-analyst-fin-tech-banking-background-at-cartona-3283606920?refId=8q%2F7oifJCsn2L2CJYvWSpQ%3D%3D&trackingId=b6rtpPf8CbI%2BDaq35LYcng%3D%3D&position=23&pageNum=0&trk=public_jobs_jserp-result_search-card',\n",
       " 'https://eg.linkedin.com/jobs/view/segmentation-data-mining-senior-specialist-at-etisalat-egypt-3303536224?refId=8q%2F7oifJCsn2L2CJYvWSpQ%3D%3D&trackingId=qyz%2FOMr91hyV7oshnOdlbA%3D%3D&position=24&pageNum=0&trk=public_jobs_jserp-result_search-card',\n",
       " 'https://eg.linkedin.com/jobs/view/etic-business-intelligence-function-senior-data-analyst-manager-egypt-at-pwc-middle-east-3202578670?refId=8q%2F7oifJCsn2L2CJYvWSpQ%3D%3D&trackingId=H8oYD6si5ijsmMcqK2FpjQ%3D%3D&position=25&pageNum=0&trk=public_jobs_jserp-result_search-card']"
      ]
     },
     "execution_count": 3,
     "metadata": {},
     "output_type": "execute_result"
    }
   ],
   "source": [
    "getJobLinks(\"https://www.linkedin.com/jobs/search?keywords=Data%20Analyst&location=Cairo&geoId=101131993&trk=public_jobs_jobs-search-bar_search-submit&position=1&pageNum=0\")"
   ]
  },
  {
   "cell_type": "code",
   "execution_count": 4,
   "id": "9642dc8f",
   "metadata": {},
   "outputs": [],
   "source": [
    "def getJobDetails(url):\n",
    "    data           = requests.get(url).text\n",
    "    soup           = BeautifulSoup(data)\n",
    "    jobTitle      = soup.find('h1').text\n",
    "    companyName       = ' '.join(soup.find(\"span\",class_=\"topcard__flavor\").text.split())\n",
    "    jobLocation        = ' '.join(soup.find(\"span\",class_=\"topcard__flavor topcard__flavor--bullet\").text.split())\n",
    "    jobInfo       = ' '.join(soup.find(\"div\",class_=\"show-more-less-html__markup show-more-less-html__markup--clamp-after-5\").text.split())\n",
    "    releaseDate      = ' '.join(soup.find(\"span\",class_=\"posted-time-ago__text topcard__flavor--metadata\").text.split())\n",
    "    \n",
    "    infoLabel = soup.find(\"ul\",class_=\"description__job-criteria-list\").findAll('h3')\n",
    "    infoValue = soup.find(\"ul\",class_=\"description__job-criteria-list\").findAll('span')\n",
    "    infoCriteria = {}\n",
    "    for i in range(len(infoLabel)):\n",
    "        key = ' '.join(infoLabel[i].text.split())\n",
    "        value = ' '.join(infoValue[i].text.split())\n",
    "        infoCriteria[key] = value\n",
    "    \n",
    "    details = {\"Job Title\"     : jobTitle,\n",
    "           \"Company Name\" : companyName,\n",
    "            \"Job Location\"     : jobLocation,\n",
    "            \"Job Description\"  : jobInfo,\n",
    "            \"Release Date\"        : releaseDate}\n",
    "        \n",
    "    details.update(infoCriteria)\n",
    "    \n",
    "    return details"
   ]
  },
  {
   "cell_type": "code",
   "execution_count": 5,
   "id": "85d67a65",
   "metadata": {},
   "outputs": [
    {
     "data": {
      "text/plain": [
       "{'Job Title': 'Data Analyst',\n",
       " 'Company Name': 'Axis',\n",
       " 'Job Location': 'القاهرة القاهرة مصر',\n",
       " 'Job Description': \"At Axis, our mission is to build a more accessible and equitable financial platform to empower the over 100 million Egyptians with a particular focus on the 70 million unbanked Egyptians. We're doing so by building digital products to help increase accessibility to payments, money transfers, savings, and digital access to credit.We are an early-stage startup founded by a team with previous experience in Fintech (mobile payments) in Egypt. Our founding team previously built Raseedy - Egypt's first independent open loop wallet licensed by the Central Bank of Egypt in partnership with SAIB bank.We are looking for innovative and motivated problem-solvers to join us on our journey. At Axis, you'll be surrounded by colleagues who are passionate about improving how financial services are delivered by build highly accessible financial products. If you're eager to help us build an inclusive financial system that works for all, we want to hear from you!We're all working out of our office at the Greek Campus in Cairo, Egypt.What you'll be doingInterpreting marketing data, analyzing results using statistical techniques and providingongoing reportsDeveloping & implementing databases, data collection systems, data analytics and otherstrategies that optimize statistical efficiency and qualityAcquiring data from primary and secondary data sources and maintainingdatabases/data systemsIdentifying, analyzing, and interpreting trends or patterns in complex data setsFiltering and 'cleaning' data by reviewing computer reports, printouts, and performanceindicators to locate and correct code problemsWorking with management to prioritize business and information needsLocating and defining new process improvement opportunitiesCreating clear measurement systems to demonstrate the impact of your work and yourcontribution towards wider growth goalsWhat Skills You'll Need1-3 years of relevant experience in data analysisStrong knowledge and experience with creating funnels and tables with businessmetrics, including tracking the acquisition funnel and keeping track ofengagement/retention metricsExperience working with databases (i.e. SQL, Python etc.)Proficiency at data visualization tools (i.e. Tableau, Looker, PowerBI)Experience working with cross-functional teams (i.e. Product, Marketing, Sales,Operations)Strong analytical and reporting skillsGood knowledge of the competitive space and willing to learn moreComfortable working in a scrappy & ambiguous startup environment where things canchange quickly\",\n",
       " 'Release Date': 'قبل 2 أسبوع',\n",
       " 'مستوى الأقدمية': 'مستوى المبتدئين',\n",
       " 'نوع التوظيف': 'دوام كامل',\n",
       " 'المهام الوظيفية': 'تكنولوجيا المعلومات',\n",
       " 'المجالات': 'الخدمات المالية'}"
      ]
     },
     "execution_count": 5,
     "metadata": {},
     "output_type": "execute_result"
    }
   ],
   "source": [
    "getJobDetails(\"https://eg.linkedin.com/jobs/view/data-analyst-at-axis-3276745296?refId=fcifQEy0gHGqIiXOpFu5Mw%3D%3D&trackingId=irYDcZmR6xocaWSiSfVCcw%3D%3D&position=1&pageNum=0&trk=public_jobs_jserp-result_search-card\")"
   ]
  },
  {
   "cell_type": "code",
   "execution_count": 6,
   "id": "cb3959a5",
   "metadata": {},
   "outputs": [
    {
     "name": "stdout",
     "output_type": "stream",
     "text": [
      "https://www.linkedin.com/jobs/view/data-scientist-at-storm5-3283366988?refId=fCB6miRGVFYSRJDLylA6nQ%3D%3D&trackingId=CzIpUQls7dIaGnbeBa7FIg%3D%3D&position=9&pageNum=0&trk=public_jobs_jserp-result_search-card\n",
      "\n",
      "https://www.linkedin.com/jobs/view/machine-learning-engineer-at-yakoa-3302362061?refId=fCB6miRGVFYSRJDLylA6nQ%3D%3D&trackingId=CgCB4s2EHiocGFsz7ieVRA%3D%3D&position=18&pageNum=0&trk=public_jobs_jserp-result_search-card\n",
      "\n",
      "https://www.linkedin.com/jobs/view/ai-machine-learning-engineer-at-lockheed-martin-3302437181?refId=fCB6miRGVFYSRJDLylA6nQ%3D%3D&trackingId=lN17GPHzyKFSW%2FidnkvLzA%3D%3D&position=20&pageNum=0&trk=public_jobs_jserp-result_search-card\n",
      "\n",
      "https://www.linkedin.com/jobs/view/manual-qa-tester-at-appian-corporation-3300062354?refId=7o78tFboRJVNymrp3arjaA%3D%3D&trackingId=afap9SjzAL%2F5EjGJQFQznA%3D%3D&position=1&pageNum=0&trk=public_jobs_jserp-result_search-card\n",
      "\n"
     ]
    }
   ],
   "source": [
    "jobsToSearch = [\"Data Analyst\",\"Machine Learning\",\"Software Testing\"]\n",
    "df = pd.DataFrame()\n",
    "for job in jobsToSearch:\n",
    "    # concatnating the job with the search link and updating the spaces by '%20'\n",
    "    url = 'https://www.linkedin.com/jobs/search/?start=0&keywords=' + job.replace(' ','%20')\n",
    "    # getting the job's links from the page\n",
    "    links = getJobLinks(url)\n",
    "    # iterating over each link and getting the details\n",
    "    for link in links:\n",
    "        try:\n",
    "            new_df = pd.DataFrame(getJobDetails(link),index=[0])\n",
    "            df = pd.concat([df,new_df],ignore_index=True)\n",
    "        except:\n",
    "            print(link+\"\\n\")"
   ]
  },
  {
   "cell_type": "code",
   "execution_count": 7,
   "id": "faee8fa2",
   "metadata": {},
   "outputs": [
    {
     "data": {
      "text/html": [
       "<div>\n",
       "<style scoped>\n",
       "    .dataframe tbody tr th:only-of-type {\n",
       "        vertical-align: middle;\n",
       "    }\n",
       "\n",
       "    .dataframe tbody tr th {\n",
       "        vertical-align: top;\n",
       "    }\n",
       "\n",
       "    .dataframe thead th {\n",
       "        text-align: right;\n",
       "    }\n",
       "</style>\n",
       "<table border=\"1\" class=\"dataframe\">\n",
       "  <thead>\n",
       "    <tr style=\"text-align: right;\">\n",
       "      <th></th>\n",
       "      <th>Job Title</th>\n",
       "      <th>Company Name</th>\n",
       "      <th>Job Location</th>\n",
       "      <th>Job Description</th>\n",
       "      <th>Release Date</th>\n",
       "      <th>Seniority level</th>\n",
       "      <th>Employment type</th>\n",
       "      <th>Job function</th>\n",
       "      <th>Industries</th>\n",
       "    </tr>\n",
       "  </thead>\n",
       "  <tbody>\n",
       "    <tr>\n",
       "      <th>0</th>\n",
       "      <td>Data Analyst</td>\n",
       "      <td>Saks OFF 5TH</td>\n",
       "      <td>New York City Metropolitan Area</td>\n",
       "      <td>Data Analyst, Marketing Analytics and Insights...</td>\n",
       "      <td>5 days ago</td>\n",
       "      <td>Mid-Senior level</td>\n",
       "      <td>Full-time</td>\n",
       "      <td>Information Technology</td>\n",
       "      <td>Retail</td>\n",
       "    </tr>\n",
       "    <tr>\n",
       "      <th>1</th>\n",
       "      <td>Data Analyst - Recent Graduate</td>\n",
       "      <td>PayPal</td>\n",
       "      <td>Buffalo-Niagara Falls Area</td>\n",
       "      <td>At PayPal (NASDAQ: PYPL), we believe that ever...</td>\n",
       "      <td>1 week ago</td>\n",
       "      <td>Not Applicable</td>\n",
       "      <td>Full-time</td>\n",
       "      <td>Information Technology</td>\n",
       "      <td>Software Development, Technology, Information ...</td>\n",
       "    </tr>\n",
       "    <tr>\n",
       "      <th>2</th>\n",
       "      <td>Data Analyst</td>\n",
       "      <td>Segpay</td>\n",
       "      <td>Deerfield Beach, FL</td>\n",
       "      <td>Job SummaryThe Data Analyst is responsible for...</td>\n",
       "      <td>5 days ago</td>\n",
       "      <td>Entry level</td>\n",
       "      <td>Full-time</td>\n",
       "      <td>Information Technology</td>\n",
       "      <td>Software Development</td>\n",
       "    </tr>\n",
       "    <tr>\n",
       "      <th>3</th>\n",
       "      <td>Data Analyst</td>\n",
       "      <td>SimpleTire</td>\n",
       "      <td>United States</td>\n",
       "      <td>The Data Analyst - eCommerce reports directly ...</td>\n",
       "      <td>5 days ago</td>\n",
       "      <td>Associate</td>\n",
       "      <td>Full-time</td>\n",
       "      <td>Analyst</td>\n",
       "      <td>Technology, Information and Internet, Manufact...</td>\n",
       "    </tr>\n",
       "    <tr>\n",
       "      <th>4</th>\n",
       "      <td>Data Analyst - Recent Graduate</td>\n",
       "      <td>PayPal</td>\n",
       "      <td>Chicago, IL</td>\n",
       "      <td>At PayPal (NASDAQ: PYPL), we believe that ever...</td>\n",
       "      <td>1 week ago</td>\n",
       "      <td>Not Applicable</td>\n",
       "      <td>Full-time</td>\n",
       "      <td>Information Technology</td>\n",
       "      <td>Software Development, Technology, Information ...</td>\n",
       "    </tr>\n",
       "    <tr>\n",
       "      <th>...</th>\n",
       "      <td>...</td>\n",
       "      <td>...</td>\n",
       "      <td>...</td>\n",
       "      <td>...</td>\n",
       "      <td>...</td>\n",
       "      <td>...</td>\n",
       "      <td>...</td>\n",
       "      <td>...</td>\n",
       "      <td>...</td>\n",
       "    </tr>\n",
       "    <tr>\n",
       "      <th>65</th>\n",
       "      <td>Manual QA Tester</td>\n",
       "      <td>Gravity IT Resources</td>\n",
       "      <td>Charlotte, NC</td>\n",
       "      <td>Job Title: Manual QA TesterLocation: Charlotte...</td>\n",
       "      <td>1 week ago</td>\n",
       "      <td>Mid-Senior level</td>\n",
       "      <td>Contract</td>\n",
       "      <td>Information Technology</td>\n",
       "      <td>IT Services and IT Consulting</td>\n",
       "    </tr>\n",
       "    <tr>\n",
       "      <th>66</th>\n",
       "      <td>Software Quality Assurance Tester</td>\n",
       "      <td>Peak Performers Staffing Agency</td>\n",
       "      <td>Austin, TX</td>\n",
       "      <td>Peak Performers is seeking a Software Quality ...</td>\n",
       "      <td>3 days ago</td>\n",
       "      <td>Entry level</td>\n",
       "      <td>Part-time</td>\n",
       "      <td>Quality Assurance</td>\n",
       "      <td>Staffing and Recruiting</td>\n",
       "    </tr>\n",
       "    <tr>\n",
       "      <th>67</th>\n",
       "      <td>Manual QA</td>\n",
       "      <td>TEK NINJAS</td>\n",
       "      <td>Phoenix, AZ</td>\n",
       "      <td>Job Title: Manual QA Client: PetSmart A/B/C re...</td>\n",
       "      <td>1 week ago</td>\n",
       "      <td>Entry level</td>\n",
       "      <td>Full-time</td>\n",
       "      <td>Quality Assurance</td>\n",
       "      <td>IT Services and IT Consulting</td>\n",
       "    </tr>\n",
       "    <tr>\n",
       "      <th>68</th>\n",
       "      <td>Quality Analyst</td>\n",
       "      <td>Xpanxion</td>\n",
       "      <td>United States</td>\n",
       "      <td>Candidates must be able to work on a W2 basis ...</td>\n",
       "      <td>6 days ago</td>\n",
       "      <td>Associate</td>\n",
       "      <td>Full-time</td>\n",
       "      <td>Quality Assurance</td>\n",
       "      <td>IT Services and IT Consulting</td>\n",
       "    </tr>\n",
       "    <tr>\n",
       "      <th>69</th>\n",
       "      <td>Software Quality Assurance Engineer</td>\n",
       "      <td>Cerbo EHR</td>\n",
       "      <td>Portland, OR</td>\n",
       "      <td>Cerbo is a high growth healthcare SaaS company...</td>\n",
       "      <td>1 month ago</td>\n",
       "      <td>Mid-Senior level</td>\n",
       "      <td>Full-time</td>\n",
       "      <td>Engineering and Information Technology</td>\n",
       "      <td>Software Development</td>\n",
       "    </tr>\n",
       "  </tbody>\n",
       "</table>\n",
       "<p>70 rows × 9 columns</p>\n",
       "</div>"
      ],
      "text/plain": [
       "                              Job Title                     Company Name  \\\n",
       "0                          Data Analyst                     Saks OFF 5TH   \n",
       "1        Data Analyst - Recent Graduate                           PayPal   \n",
       "2                          Data Analyst                           Segpay   \n",
       "3                          Data Analyst                       SimpleTire   \n",
       "4        Data Analyst - Recent Graduate                           PayPal   \n",
       "..                                  ...                              ...   \n",
       "65                     Manual QA Tester             Gravity IT Resources   \n",
       "66    Software Quality Assurance Tester  Peak Performers Staffing Agency   \n",
       "67                            Manual QA                       TEK NINJAS   \n",
       "68                      Quality Analyst                         Xpanxion   \n",
       "69  Software Quality Assurance Engineer                        Cerbo EHR   \n",
       "\n",
       "                       Job Location  \\\n",
       "0   New York City Metropolitan Area   \n",
       "1        Buffalo-Niagara Falls Area   \n",
       "2               Deerfield Beach, FL   \n",
       "3                     United States   \n",
       "4                       Chicago, IL   \n",
       "..                              ...   \n",
       "65                    Charlotte, NC   \n",
       "66                       Austin, TX   \n",
       "67                      Phoenix, AZ   \n",
       "68                    United States   \n",
       "69                     Portland, OR   \n",
       "\n",
       "                                      Job Description Release Date  \\\n",
       "0   Data Analyst, Marketing Analytics and Insights...   5 days ago   \n",
       "1   At PayPal (NASDAQ: PYPL), we believe that ever...   1 week ago   \n",
       "2   Job SummaryThe Data Analyst is responsible for...   5 days ago   \n",
       "3   The Data Analyst - eCommerce reports directly ...   5 days ago   \n",
       "4   At PayPal (NASDAQ: PYPL), we believe that ever...   1 week ago   \n",
       "..                                                ...          ...   \n",
       "65  Job Title: Manual QA TesterLocation: Charlotte...   1 week ago   \n",
       "66  Peak Performers is seeking a Software Quality ...   3 days ago   \n",
       "67  Job Title: Manual QA Client: PetSmart A/B/C re...   1 week ago   \n",
       "68  Candidates must be able to work on a W2 basis ...   6 days ago   \n",
       "69  Cerbo is a high growth healthcare SaaS company...  1 month ago   \n",
       "\n",
       "     Seniority level Employment type                            Job function  \\\n",
       "0   Mid-Senior level       Full-time                  Information Technology   \n",
       "1     Not Applicable       Full-time                  Information Technology   \n",
       "2        Entry level       Full-time                  Information Technology   \n",
       "3          Associate       Full-time                                 Analyst   \n",
       "4     Not Applicable       Full-time                  Information Technology   \n",
       "..               ...             ...                                     ...   \n",
       "65  Mid-Senior level        Contract                  Information Technology   \n",
       "66       Entry level       Part-time                       Quality Assurance   \n",
       "67       Entry level       Full-time                       Quality Assurance   \n",
       "68         Associate       Full-time                       Quality Assurance   \n",
       "69  Mid-Senior level       Full-time  Engineering and Information Technology   \n",
       "\n",
       "                                           Industries  \n",
       "0                                              Retail  \n",
       "1   Software Development, Technology, Information ...  \n",
       "2                                Software Development  \n",
       "3   Technology, Information and Internet, Manufact...  \n",
       "4   Software Development, Technology, Information ...  \n",
       "..                                                ...  \n",
       "65                      IT Services and IT Consulting  \n",
       "66                            Staffing and Recruiting  \n",
       "67                      IT Services and IT Consulting  \n",
       "68                      IT Services and IT Consulting  \n",
       "69                               Software Development  \n",
       "\n",
       "[70 rows x 9 columns]"
      ]
     },
     "execution_count": 7,
     "metadata": {},
     "output_type": "execute_result"
    }
   ],
   "source": [
    "df"
   ]
  },
  {
   "cell_type": "code",
   "execution_count": 8,
   "id": "0e5dbb5f",
   "metadata": {},
   "outputs": [],
   "source": [
    "def renameColumns(oldName,newName):\n",
    "    df=df.rename(columns = {oldName:newName})"
   ]
  },
  {
   "cell_type": "code",
   "execution_count": 9,
   "id": "237c24d4",
   "metadata": {},
   "outputs": [
    {
     "data": {
      "text/html": [
       "<div>\n",
       "<style scoped>\n",
       "    .dataframe tbody tr th:only-of-type {\n",
       "        vertical-align: middle;\n",
       "    }\n",
       "\n",
       "    .dataframe tbody tr th {\n",
       "        vertical-align: top;\n",
       "    }\n",
       "\n",
       "    .dataframe thead th {\n",
       "        text-align: right;\n",
       "    }\n",
       "</style>\n",
       "<table border=\"1\" class=\"dataframe\">\n",
       "  <thead>\n",
       "    <tr style=\"text-align: right;\">\n",
       "      <th></th>\n",
       "      <th>Job Title</th>\n",
       "      <th>Company Name</th>\n",
       "      <th>Job Location</th>\n",
       "      <th>Job Description</th>\n",
       "      <th>Release Date</th>\n",
       "      <th>Seniority level</th>\n",
       "      <th>Employment type</th>\n",
       "      <th>Job function</th>\n",
       "      <th>Industries</th>\n",
       "    </tr>\n",
       "  </thead>\n",
       "  <tbody>\n",
       "    <tr>\n",
       "      <th>0</th>\n",
       "      <td>Data Analyst</td>\n",
       "      <td>Saks OFF 5TH</td>\n",
       "      <td>New York City Metropolitan Area</td>\n",
       "      <td>Data Analyst, Marketing Analytics and Insights...</td>\n",
       "      <td>5 days ago</td>\n",
       "      <td>Mid-Senior level</td>\n",
       "      <td>Full-time</td>\n",
       "      <td>Information Technology</td>\n",
       "      <td>Retail</td>\n",
       "    </tr>\n",
       "    <tr>\n",
       "      <th>1</th>\n",
       "      <td>Data Analyst - Recent Graduate</td>\n",
       "      <td>PayPal</td>\n",
       "      <td>Buffalo-Niagara Falls Area</td>\n",
       "      <td>At PayPal (NASDAQ: PYPL), we believe that ever...</td>\n",
       "      <td>1 week ago</td>\n",
       "      <td>Not Applicable</td>\n",
       "      <td>Full-time</td>\n",
       "      <td>Information Technology</td>\n",
       "      <td>Software Development, Technology, Information ...</td>\n",
       "    </tr>\n",
       "    <tr>\n",
       "      <th>2</th>\n",
       "      <td>Data Analyst</td>\n",
       "      <td>Segpay</td>\n",
       "      <td>Deerfield Beach, FL</td>\n",
       "      <td>Job SummaryThe Data Analyst is responsible for...</td>\n",
       "      <td>5 days ago</td>\n",
       "      <td>Entry level</td>\n",
       "      <td>Full-time</td>\n",
       "      <td>Information Technology</td>\n",
       "      <td>Software Development</td>\n",
       "    </tr>\n",
       "    <tr>\n",
       "      <th>3</th>\n",
       "      <td>Data Analyst</td>\n",
       "      <td>SimpleTire</td>\n",
       "      <td>United States</td>\n",
       "      <td>The Data Analyst - eCommerce reports directly ...</td>\n",
       "      <td>5 days ago</td>\n",
       "      <td>Associate</td>\n",
       "      <td>Full-time</td>\n",
       "      <td>Analyst</td>\n",
       "      <td>Technology, Information and Internet, Manufact...</td>\n",
       "    </tr>\n",
       "    <tr>\n",
       "      <th>4</th>\n",
       "      <td>Data Analyst - Recent Graduate</td>\n",
       "      <td>PayPal</td>\n",
       "      <td>Chicago, IL</td>\n",
       "      <td>At PayPal (NASDAQ: PYPL), we believe that ever...</td>\n",
       "      <td>1 week ago</td>\n",
       "      <td>Not Applicable</td>\n",
       "      <td>Full-time</td>\n",
       "      <td>Information Technology</td>\n",
       "      <td>Software Development, Technology, Information ...</td>\n",
       "    </tr>\n",
       "    <tr>\n",
       "      <th>...</th>\n",
       "      <td>...</td>\n",
       "      <td>...</td>\n",
       "      <td>...</td>\n",
       "      <td>...</td>\n",
       "      <td>...</td>\n",
       "      <td>...</td>\n",
       "      <td>...</td>\n",
       "      <td>...</td>\n",
       "      <td>...</td>\n",
       "    </tr>\n",
       "    <tr>\n",
       "      <th>65</th>\n",
       "      <td>Manual QA Tester</td>\n",
       "      <td>Gravity IT Resources</td>\n",
       "      <td>Charlotte, NC</td>\n",
       "      <td>Job Title: Manual QA TesterLocation: Charlotte...</td>\n",
       "      <td>1 week ago</td>\n",
       "      <td>Mid-Senior level</td>\n",
       "      <td>Contract</td>\n",
       "      <td>Information Technology</td>\n",
       "      <td>IT Services and IT Consulting</td>\n",
       "    </tr>\n",
       "    <tr>\n",
       "      <th>66</th>\n",
       "      <td>Software Quality Assurance Tester</td>\n",
       "      <td>Peak Performers Staffing Agency</td>\n",
       "      <td>Austin, TX</td>\n",
       "      <td>Peak Performers is seeking a Software Quality ...</td>\n",
       "      <td>3 days ago</td>\n",
       "      <td>Entry level</td>\n",
       "      <td>Part-time</td>\n",
       "      <td>Quality Assurance</td>\n",
       "      <td>Staffing and Recruiting</td>\n",
       "    </tr>\n",
       "    <tr>\n",
       "      <th>67</th>\n",
       "      <td>Manual QA</td>\n",
       "      <td>TEK NINJAS</td>\n",
       "      <td>Phoenix, AZ</td>\n",
       "      <td>Job Title: Manual QA Client: PetSmart A/B/C re...</td>\n",
       "      <td>1 week ago</td>\n",
       "      <td>Entry level</td>\n",
       "      <td>Full-time</td>\n",
       "      <td>Quality Assurance</td>\n",
       "      <td>IT Services and IT Consulting</td>\n",
       "    </tr>\n",
       "    <tr>\n",
       "      <th>68</th>\n",
       "      <td>Quality Analyst</td>\n",
       "      <td>Xpanxion</td>\n",
       "      <td>United States</td>\n",
       "      <td>Candidates must be able to work on a W2 basis ...</td>\n",
       "      <td>6 days ago</td>\n",
       "      <td>Associate</td>\n",
       "      <td>Full-time</td>\n",
       "      <td>Quality Assurance</td>\n",
       "      <td>IT Services and IT Consulting</td>\n",
       "    </tr>\n",
       "    <tr>\n",
       "      <th>69</th>\n",
       "      <td>Software Quality Assurance Engineer</td>\n",
       "      <td>Cerbo EHR</td>\n",
       "      <td>Portland, OR</td>\n",
       "      <td>Cerbo is a high growth healthcare SaaS company...</td>\n",
       "      <td>1 month ago</td>\n",
       "      <td>Mid-Senior level</td>\n",
       "      <td>Full-time</td>\n",
       "      <td>Engineering and Information Technology</td>\n",
       "      <td>Software Development</td>\n",
       "    </tr>\n",
       "  </tbody>\n",
       "</table>\n",
       "<p>70 rows × 9 columns</p>\n",
       "</div>"
      ],
      "text/plain": [
       "                              Job Title                     Company Name  \\\n",
       "0                          Data Analyst                     Saks OFF 5TH   \n",
       "1        Data Analyst - Recent Graduate                           PayPal   \n",
       "2                          Data Analyst                           Segpay   \n",
       "3                          Data Analyst                       SimpleTire   \n",
       "4        Data Analyst - Recent Graduate                           PayPal   \n",
       "..                                  ...                              ...   \n",
       "65                     Manual QA Tester             Gravity IT Resources   \n",
       "66    Software Quality Assurance Tester  Peak Performers Staffing Agency   \n",
       "67                            Manual QA                       TEK NINJAS   \n",
       "68                      Quality Analyst                         Xpanxion   \n",
       "69  Software Quality Assurance Engineer                        Cerbo EHR   \n",
       "\n",
       "                       Job Location  \\\n",
       "0   New York City Metropolitan Area   \n",
       "1        Buffalo-Niagara Falls Area   \n",
       "2               Deerfield Beach, FL   \n",
       "3                     United States   \n",
       "4                       Chicago, IL   \n",
       "..                              ...   \n",
       "65                    Charlotte, NC   \n",
       "66                       Austin, TX   \n",
       "67                      Phoenix, AZ   \n",
       "68                    United States   \n",
       "69                     Portland, OR   \n",
       "\n",
       "                                      Job Description Release Date  \\\n",
       "0   Data Analyst, Marketing Analytics and Insights...   5 days ago   \n",
       "1   At PayPal (NASDAQ: PYPL), we believe that ever...   1 week ago   \n",
       "2   Job SummaryThe Data Analyst is responsible for...   5 days ago   \n",
       "3   The Data Analyst - eCommerce reports directly ...   5 days ago   \n",
       "4   At PayPal (NASDAQ: PYPL), we believe that ever...   1 week ago   \n",
       "..                                                ...          ...   \n",
       "65  Job Title: Manual QA TesterLocation: Charlotte...   1 week ago   \n",
       "66  Peak Performers is seeking a Software Quality ...   3 days ago   \n",
       "67  Job Title: Manual QA Client: PetSmart A/B/C re...   1 week ago   \n",
       "68  Candidates must be able to work on a W2 basis ...   6 days ago   \n",
       "69  Cerbo is a high growth healthcare SaaS company...  1 month ago   \n",
       "\n",
       "     Seniority level Employment type                            Job function  \\\n",
       "0   Mid-Senior level       Full-time                  Information Technology   \n",
       "1     Not Applicable       Full-time                  Information Technology   \n",
       "2        Entry level       Full-time                  Information Technology   \n",
       "3          Associate       Full-time                                 Analyst   \n",
       "4     Not Applicable       Full-time                  Information Technology   \n",
       "..               ...             ...                                     ...   \n",
       "65  Mid-Senior level        Contract                  Information Technology   \n",
       "66       Entry level       Part-time                       Quality Assurance   \n",
       "67       Entry level       Full-time                       Quality Assurance   \n",
       "68         Associate       Full-time                       Quality Assurance   \n",
       "69  Mid-Senior level       Full-time  Engineering and Information Technology   \n",
       "\n",
       "                                           Industries  \n",
       "0                                              Retail  \n",
       "1   Software Development, Technology, Information ...  \n",
       "2                                Software Development  \n",
       "3   Technology, Information and Internet, Manufact...  \n",
       "4   Software Development, Technology, Information ...  \n",
       "..                                                ...  \n",
       "65                      IT Services and IT Consulting  \n",
       "66                            Staffing and Recruiting  \n",
       "67                      IT Services and IT Consulting  \n",
       "68                      IT Services and IT Consulting  \n",
       "69                               Software Development  \n",
       "\n",
       "[70 rows x 9 columns]"
      ]
     },
     "execution_count": 9,
     "metadata": {},
     "output_type": "execute_result"
    }
   ],
   "source": [
    "df"
   ]
  },
  {
   "cell_type": "code",
   "execution_count": 10,
   "id": "24527f91",
   "metadata": {},
   "outputs": [],
   "source": [
    "for i in range(0,len(df[\"Job Description\"])):\n",
    "    sentences = nltk.sent_tokenize(df[\"Job Description\"][i])\n",
    "    sentence=\"\\n\\n\".join(sentences)"
   ]
  },
  {
   "cell_type": "code",
   "execution_count": 11,
   "id": "226688da",
   "metadata": {},
   "outputs": [
    {
     "name": "stdout",
     "output_type": "stream",
     "text": [
      "Cerbo is a high growth healthcare SaaS company, doing our part in the medical market to support holistic lifestyles and personalized medicine.\n",
      "\n",
      "Our software – Cerbo EHR – is a cloud-based electronic health records (EHR) and patient portal software system.\n",
      "\n",
      "Healthcare offices across the country – and some around the world – use Cerbo for most everything they do in their day-to-day.\n",
      "\n",
      "Cerbo originally started as a developer’s nights-and-weekends project.\n",
      "\n",
      "And has grown into one of the leading EHR systems for functional or “root cause” medicine and membership- or cash-based clinics.\n",
      "\n",
      "Because of our unique origins, we often approach things a bit differently.\n",
      "\n",
      "That is, success for us is not just about the bottom line.\n",
      "\n",
      "It’s more about providing a great product, operating with integrity, and supporting our clients and our team.\n",
      "\n",
      "During the past 4 years our team has grown and thousands of practitioners use our product.\n",
      "\n",
      "To this end, we’re looking for Software Engineers to join our growing team.About the Job:For this role, experience growing a QA department would be beneficial.\n",
      "\n",
      "We are looking for someone who can bring QA methodologies to our Software Development lifecycle.\n",
      "\n",
      "We would like somebody who can move the company forward.\n",
      "\n",
      "Any well-known scripting environment would be handy and the testing is almost all manual.As Software Quality Assurance Engineer, you will be responsible for testing our platform code, single-page applications, and performing user interface testing of consumer facing sites.\n",
      "\n",
      "You will work as part of a scrum team (or multiple teams) to develop test plans, test cases, report defects, and perform required development tests, including ad-hoc testing.\n",
      "\n",
      "You will work closely with the development team, product owners, scrum masters and be required to participate in daily standups and other agile ceremonies.You should have knowledge of different types of testing, for example:Unit TestingIntegration TestingAPI TestingSystem TestingSanity TestingSmoke TestingInterface TestingRegression TestingManual and automated interface testingBeta/Acceptance TestingYou should be able to use analytical thinking to determine which types of testing may be necessary to ensure quality.\n",
      "\n",
      "The Quality Assurance Team provides service to the Development Team; the development Team is our customer.Responsibilities:Act as a catalyst for change and improvement in performance and quality throughout the companyReview requirements, specifications, and technical design documents to provide timely and meaningful feedback to Scrum Masters, Product Owners, and others, as necessaryCreate detailed, comprehensive and well-structured test plans and test casesEstimate, prioritize, plan and coordinate testing activitiesDesign, develop and execute basic/entry-level automation scripts using open-source toolsIdentify, record, document thoroughly, and track bugsPerform thorough regression testing when bugs are resolvedDevelop and apply testing processes for new and existing products to meet client needsWork together with internal teams (e.g.\n",
      "\n",
      "developers and product managers) on projects and teamsMonitor debugging process resultsInvestigate the causes of non-conforming software and help develop workarounds for user solutions (short-term and long-term)Track quality assurance metrics, like defect densities and open defect countsStay up to date with new testing tools and test strategiesHelp monitor, validate/clarify, and assign, items on the Intake backlogsReview and audit tickets completed by Development TeamsWorking knowledge of testing tools and repositories such as Jira, SeleniumComplete PRs (pull requests) for different Dev teamsProvide status updates in report form as deemed necessary (dependent upon project)Mentor team membersKey Skills:JavaScript, CSS, React within a mobile appPrevious experience in software quality assuranceKnowledge of software QA methodologies, tools, and processesExperience in writing clear, concise, and comprehensive test plans and test casesHands-on experience with both white box and black box testingHands-on experience with automated testing toolsBasic knowledge of SQL and scriptingExperience working in an Agile/Scrum development processWork well on your own as well as with a teamComfortable working on multiple projects and/or teamsDesire to improve processes and communication between departmentsInterest in improving QA tools and processesExperience with determining types of testing necessary to ensure overall qualityExperience with integration testingExperience with regression test suites and keeping scripts updated/relevantAble to learn new programming techniques and capable of being highly productive and proficient in any language/environment Experience working with relational databasesExperience working with source control such as GitFamiliarity with REST and web servicesExperience with Git version controlHigh-level understanding of MVC, Dependency Injection, and Repository PatternKnowledge of web development skills including C#, .Net Core, JavaScript, React.js, VBScript, PHP, Classic ASP, CSSStrong PHP skills are necessaryInterest in new technologies and toolsExperience with performance (load, etc.)\n",
      "\n",
      "and/or security testing is a plus.Location: 100% Remote (Portland, Oregon is preferred)Compensation: Competitive compensation based on experience, plus health, dental, 401k, PTO/ holidays, flex work optionsPowered by JazzHRggxZL6POqJ\n"
     ]
    }
   ],
   "source": [
    "print(sentence)"
   ]
  },
  {
   "cell_type": "code",
   "execution_count": 12,
   "id": "30efe657",
   "metadata": {},
   "outputs": [],
   "source": [
    "def sortSentences(df_column):\n",
    "    for i in range(0,len(df_column)):\n",
    "        sentences = nltk.sent_tokenize(df_column[i])\n",
    "        sentence=\"\\n\\n\".join(sentences)\n",
    "    print(sentence)\n",
    "    return None"
   ]
  },
  {
   "cell_type": "code",
   "execution_count": 13,
   "id": "d1b4ec08",
   "metadata": {},
   "outputs": [
    {
     "name": "stdout",
     "output_type": "stream",
     "text": [
      "Cerbo is a high growth healthcare SaaS company, doing our part in the medical market to support holistic lifestyles and personalized medicine.\n",
      "\n",
      "Our software – Cerbo EHR – is a cloud-based electronic health records (EHR) and patient portal software system.\n",
      "\n",
      "Healthcare offices across the country – and some around the world – use Cerbo for most everything they do in their day-to-day.\n",
      "\n",
      "Cerbo originally started as a developer’s nights-and-weekends project.\n",
      "\n",
      "And has grown into one of the leading EHR systems for functional or “root cause” medicine and membership- or cash-based clinics.\n",
      "\n",
      "Because of our unique origins, we often approach things a bit differently.\n",
      "\n",
      "That is, success for us is not just about the bottom line.\n",
      "\n",
      "It’s more about providing a great product, operating with integrity, and supporting our clients and our team.\n",
      "\n",
      "During the past 4 years our team has grown and thousands of practitioners use our product.\n",
      "\n",
      "To this end, we’re looking for Software Engineers to join our growing team.About the Job:For this role, experience growing a QA department would be beneficial.\n",
      "\n",
      "We are looking for someone who can bring QA methodologies to our Software Development lifecycle.\n",
      "\n",
      "We would like somebody who can move the company forward.\n",
      "\n",
      "Any well-known scripting environment would be handy and the testing is almost all manual.As Software Quality Assurance Engineer, you will be responsible for testing our platform code, single-page applications, and performing user interface testing of consumer facing sites.\n",
      "\n",
      "You will work as part of a scrum team (or multiple teams) to develop test plans, test cases, report defects, and perform required development tests, including ad-hoc testing.\n",
      "\n",
      "You will work closely with the development team, product owners, scrum masters and be required to participate in daily standups and other agile ceremonies.You should have knowledge of different types of testing, for example:Unit TestingIntegration TestingAPI TestingSystem TestingSanity TestingSmoke TestingInterface TestingRegression TestingManual and automated interface testingBeta/Acceptance TestingYou should be able to use analytical thinking to determine which types of testing may be necessary to ensure quality.\n",
      "\n",
      "The Quality Assurance Team provides service to the Development Team; the development Team is our customer.Responsibilities:Act as a catalyst for change and improvement in performance and quality throughout the companyReview requirements, specifications, and technical design documents to provide timely and meaningful feedback to Scrum Masters, Product Owners, and others, as necessaryCreate detailed, comprehensive and well-structured test plans and test casesEstimate, prioritize, plan and coordinate testing activitiesDesign, develop and execute basic/entry-level automation scripts using open-source toolsIdentify, record, document thoroughly, and track bugsPerform thorough regression testing when bugs are resolvedDevelop and apply testing processes for new and existing products to meet client needsWork together with internal teams (e.g.\n",
      "\n",
      "developers and product managers) on projects and teamsMonitor debugging process resultsInvestigate the causes of non-conforming software and help develop workarounds for user solutions (short-term and long-term)Track quality assurance metrics, like defect densities and open defect countsStay up to date with new testing tools and test strategiesHelp monitor, validate/clarify, and assign, items on the Intake backlogsReview and audit tickets completed by Development TeamsWorking knowledge of testing tools and repositories such as Jira, SeleniumComplete PRs (pull requests) for different Dev teamsProvide status updates in report form as deemed necessary (dependent upon project)Mentor team membersKey Skills:JavaScript, CSS, React within a mobile appPrevious experience in software quality assuranceKnowledge of software QA methodologies, tools, and processesExperience in writing clear, concise, and comprehensive test plans and test casesHands-on experience with both white box and black box testingHands-on experience with automated testing toolsBasic knowledge of SQL and scriptingExperience working in an Agile/Scrum development processWork well on your own as well as with a teamComfortable working on multiple projects and/or teamsDesire to improve processes and communication between departmentsInterest in improving QA tools and processesExperience with determining types of testing necessary to ensure overall qualityExperience with integration testingExperience with regression test suites and keeping scripts updated/relevantAble to learn new programming techniques and capable of being highly productive and proficient in any language/environment Experience working with relational databasesExperience working with source control such as GitFamiliarity with REST and web servicesExperience with Git version controlHigh-level understanding of MVC, Dependency Injection, and Repository PatternKnowledge of web development skills including C#, .Net Core, JavaScript, React.js, VBScript, PHP, Classic ASP, CSSStrong PHP skills are necessaryInterest in new technologies and toolsExperience with performance (load, etc.)\n",
      "\n",
      "and/or security testing is a plus.Location: 100% Remote (Portland, Oregon is preferred)Compensation: Competitive compensation based on experience, plus health, dental, 401k, PTO/ holidays, flex work optionsPowered by JazzHRggxZL6POqJ\n"
     ]
    }
   ],
   "source": [
    "sortSentences(df[\"Job Description\"])"
   ]
  },
  {
   "cell_type": "code",
   "execution_count": 14,
   "id": "ad90c166",
   "metadata": {},
   "outputs": [],
   "source": [
    "df=df.rename(columns = {\"Job function\":\"Department\"})"
   ]
  },
  {
   "cell_type": "code",
   "execution_count": 15,
   "id": "0b9f896d",
   "metadata": {},
   "outputs": [
    {
     "data": {
      "text/html": [
       "<div>\n",
       "<style scoped>\n",
       "    .dataframe tbody tr th:only-of-type {\n",
       "        vertical-align: middle;\n",
       "    }\n",
       "\n",
       "    .dataframe tbody tr th {\n",
       "        vertical-align: top;\n",
       "    }\n",
       "\n",
       "    .dataframe thead th {\n",
       "        text-align: right;\n",
       "    }\n",
       "</style>\n",
       "<table border=\"1\" class=\"dataframe\">\n",
       "  <thead>\n",
       "    <tr style=\"text-align: right;\">\n",
       "      <th></th>\n",
       "      <th>Job Title</th>\n",
       "      <th>Company Name</th>\n",
       "      <th>Job Location</th>\n",
       "      <th>Job Description</th>\n",
       "      <th>Release Date</th>\n",
       "      <th>Seniority level</th>\n",
       "      <th>Employment type</th>\n",
       "      <th>Department</th>\n",
       "      <th>Industries</th>\n",
       "    </tr>\n",
       "  </thead>\n",
       "  <tbody>\n",
       "    <tr>\n",
       "      <th>0</th>\n",
       "      <td>Data Analyst</td>\n",
       "      <td>Saks OFF 5TH</td>\n",
       "      <td>New York City Metropolitan Area</td>\n",
       "      <td>Data Analyst, Marketing Analytics and Insights...</td>\n",
       "      <td>5 days ago</td>\n",
       "      <td>Mid-Senior level</td>\n",
       "      <td>Full-time</td>\n",
       "      <td>Information Technology</td>\n",
       "      <td>Retail</td>\n",
       "    </tr>\n",
       "    <tr>\n",
       "      <th>1</th>\n",
       "      <td>Data Analyst - Recent Graduate</td>\n",
       "      <td>PayPal</td>\n",
       "      <td>Buffalo-Niagara Falls Area</td>\n",
       "      <td>At PayPal (NASDAQ: PYPL), we believe that ever...</td>\n",
       "      <td>1 week ago</td>\n",
       "      <td>Not Applicable</td>\n",
       "      <td>Full-time</td>\n",
       "      <td>Information Technology</td>\n",
       "      <td>Software Development, Technology, Information ...</td>\n",
       "    </tr>\n",
       "    <tr>\n",
       "      <th>2</th>\n",
       "      <td>Data Analyst</td>\n",
       "      <td>Segpay</td>\n",
       "      <td>Deerfield Beach, FL</td>\n",
       "      <td>Job SummaryThe Data Analyst is responsible for...</td>\n",
       "      <td>5 days ago</td>\n",
       "      <td>Entry level</td>\n",
       "      <td>Full-time</td>\n",
       "      <td>Information Technology</td>\n",
       "      <td>Software Development</td>\n",
       "    </tr>\n",
       "    <tr>\n",
       "      <th>3</th>\n",
       "      <td>Data Analyst</td>\n",
       "      <td>SimpleTire</td>\n",
       "      <td>United States</td>\n",
       "      <td>The Data Analyst - eCommerce reports directly ...</td>\n",
       "      <td>5 days ago</td>\n",
       "      <td>Associate</td>\n",
       "      <td>Full-time</td>\n",
       "      <td>Analyst</td>\n",
       "      <td>Technology, Information and Internet, Manufact...</td>\n",
       "    </tr>\n",
       "    <tr>\n",
       "      <th>4</th>\n",
       "      <td>Data Analyst - Recent Graduate</td>\n",
       "      <td>PayPal</td>\n",
       "      <td>Chicago, IL</td>\n",
       "      <td>At PayPal (NASDAQ: PYPL), we believe that ever...</td>\n",
       "      <td>1 week ago</td>\n",
       "      <td>Not Applicable</td>\n",
       "      <td>Full-time</td>\n",
       "      <td>Information Technology</td>\n",
       "      <td>Software Development, Technology, Information ...</td>\n",
       "    </tr>\n",
       "    <tr>\n",
       "      <th>...</th>\n",
       "      <td>...</td>\n",
       "      <td>...</td>\n",
       "      <td>...</td>\n",
       "      <td>...</td>\n",
       "      <td>...</td>\n",
       "      <td>...</td>\n",
       "      <td>...</td>\n",
       "      <td>...</td>\n",
       "      <td>...</td>\n",
       "    </tr>\n",
       "    <tr>\n",
       "      <th>65</th>\n",
       "      <td>Manual QA Tester</td>\n",
       "      <td>Gravity IT Resources</td>\n",
       "      <td>Charlotte, NC</td>\n",
       "      <td>Job Title: Manual QA TesterLocation: Charlotte...</td>\n",
       "      <td>1 week ago</td>\n",
       "      <td>Mid-Senior level</td>\n",
       "      <td>Contract</td>\n",
       "      <td>Information Technology</td>\n",
       "      <td>IT Services and IT Consulting</td>\n",
       "    </tr>\n",
       "    <tr>\n",
       "      <th>66</th>\n",
       "      <td>Software Quality Assurance Tester</td>\n",
       "      <td>Peak Performers Staffing Agency</td>\n",
       "      <td>Austin, TX</td>\n",
       "      <td>Peak Performers is seeking a Software Quality ...</td>\n",
       "      <td>3 days ago</td>\n",
       "      <td>Entry level</td>\n",
       "      <td>Part-time</td>\n",
       "      <td>Quality Assurance</td>\n",
       "      <td>Staffing and Recruiting</td>\n",
       "    </tr>\n",
       "    <tr>\n",
       "      <th>67</th>\n",
       "      <td>Manual QA</td>\n",
       "      <td>TEK NINJAS</td>\n",
       "      <td>Phoenix, AZ</td>\n",
       "      <td>Job Title: Manual QA Client: PetSmart A/B/C re...</td>\n",
       "      <td>1 week ago</td>\n",
       "      <td>Entry level</td>\n",
       "      <td>Full-time</td>\n",
       "      <td>Quality Assurance</td>\n",
       "      <td>IT Services and IT Consulting</td>\n",
       "    </tr>\n",
       "    <tr>\n",
       "      <th>68</th>\n",
       "      <td>Quality Analyst</td>\n",
       "      <td>Xpanxion</td>\n",
       "      <td>United States</td>\n",
       "      <td>Candidates must be able to work on a W2 basis ...</td>\n",
       "      <td>6 days ago</td>\n",
       "      <td>Associate</td>\n",
       "      <td>Full-time</td>\n",
       "      <td>Quality Assurance</td>\n",
       "      <td>IT Services and IT Consulting</td>\n",
       "    </tr>\n",
       "    <tr>\n",
       "      <th>69</th>\n",
       "      <td>Software Quality Assurance Engineer</td>\n",
       "      <td>Cerbo EHR</td>\n",
       "      <td>Portland, OR</td>\n",
       "      <td>Cerbo is a high growth healthcare SaaS company...</td>\n",
       "      <td>1 month ago</td>\n",
       "      <td>Mid-Senior level</td>\n",
       "      <td>Full-time</td>\n",
       "      <td>Engineering and Information Technology</td>\n",
       "      <td>Software Development</td>\n",
       "    </tr>\n",
       "  </tbody>\n",
       "</table>\n",
       "<p>70 rows × 9 columns</p>\n",
       "</div>"
      ],
      "text/plain": [
       "                              Job Title                     Company Name  \\\n",
       "0                          Data Analyst                     Saks OFF 5TH   \n",
       "1        Data Analyst - Recent Graduate                           PayPal   \n",
       "2                          Data Analyst                           Segpay   \n",
       "3                          Data Analyst                       SimpleTire   \n",
       "4        Data Analyst - Recent Graduate                           PayPal   \n",
       "..                                  ...                              ...   \n",
       "65                     Manual QA Tester             Gravity IT Resources   \n",
       "66    Software Quality Assurance Tester  Peak Performers Staffing Agency   \n",
       "67                            Manual QA                       TEK NINJAS   \n",
       "68                      Quality Analyst                         Xpanxion   \n",
       "69  Software Quality Assurance Engineer                        Cerbo EHR   \n",
       "\n",
       "                       Job Location  \\\n",
       "0   New York City Metropolitan Area   \n",
       "1        Buffalo-Niagara Falls Area   \n",
       "2               Deerfield Beach, FL   \n",
       "3                     United States   \n",
       "4                       Chicago, IL   \n",
       "..                              ...   \n",
       "65                    Charlotte, NC   \n",
       "66                       Austin, TX   \n",
       "67                      Phoenix, AZ   \n",
       "68                    United States   \n",
       "69                     Portland, OR   \n",
       "\n",
       "                                      Job Description Release Date  \\\n",
       "0   Data Analyst, Marketing Analytics and Insights...   5 days ago   \n",
       "1   At PayPal (NASDAQ: PYPL), we believe that ever...   1 week ago   \n",
       "2   Job SummaryThe Data Analyst is responsible for...   5 days ago   \n",
       "3   The Data Analyst - eCommerce reports directly ...   5 days ago   \n",
       "4   At PayPal (NASDAQ: PYPL), we believe that ever...   1 week ago   \n",
       "..                                                ...          ...   \n",
       "65  Job Title: Manual QA TesterLocation: Charlotte...   1 week ago   \n",
       "66  Peak Performers is seeking a Software Quality ...   3 days ago   \n",
       "67  Job Title: Manual QA Client: PetSmart A/B/C re...   1 week ago   \n",
       "68  Candidates must be able to work on a W2 basis ...   6 days ago   \n",
       "69  Cerbo is a high growth healthcare SaaS company...  1 month ago   \n",
       "\n",
       "     Seniority level Employment type                              Department  \\\n",
       "0   Mid-Senior level       Full-time                  Information Technology   \n",
       "1     Not Applicable       Full-time                  Information Technology   \n",
       "2        Entry level       Full-time                  Information Technology   \n",
       "3          Associate       Full-time                                 Analyst   \n",
       "4     Not Applicable       Full-time                  Information Technology   \n",
       "..               ...             ...                                     ...   \n",
       "65  Mid-Senior level        Contract                  Information Technology   \n",
       "66       Entry level       Part-time                       Quality Assurance   \n",
       "67       Entry level       Full-time                       Quality Assurance   \n",
       "68         Associate       Full-time                       Quality Assurance   \n",
       "69  Mid-Senior level       Full-time  Engineering and Information Technology   \n",
       "\n",
       "                                           Industries  \n",
       "0                                              Retail  \n",
       "1   Software Development, Technology, Information ...  \n",
       "2                                Software Development  \n",
       "3   Technology, Information and Internet, Manufact...  \n",
       "4   Software Development, Technology, Information ...  \n",
       "..                                                ...  \n",
       "65                      IT Services and IT Consulting  \n",
       "66                            Staffing and Recruiting  \n",
       "67                      IT Services and IT Consulting  \n",
       "68                      IT Services and IT Consulting  \n",
       "69                               Software Development  \n",
       "\n",
       "[70 rows x 9 columns]"
      ]
     },
     "execution_count": 15,
     "metadata": {},
     "output_type": "execute_result"
    }
   ],
   "source": [
    "df"
   ]
  },
  {
   "cell_type": "code",
   "execution_count": 16,
   "id": "7269083d",
   "metadata": {},
   "outputs": [
    {
     "data": {
      "text/plain": [
       "<AxesSubplot:xlabel='Department', ylabel='count'>"
      ]
     },
     "execution_count": 16,
     "metadata": {},
     "output_type": "execute_result"
    },
    {
     "data": {
      "image/png": "[encoded data removed]",
      "text/plain": [
       "<Figure size 2160x720 with 1 Axes>"
      ]
     },
     "metadata": {
      "needs_background": "light"
     },
     "output_type": "display_data"
    }
   ],
   "source": [
    "plt.figure(figsize=(30,10))\n",
    "sns.countplot(x='Department',data=df)"
   ]
  },
  {
   "cell_type": "code",
   "execution_count": 32,
   "id": "1d95c154",
   "metadata": {},
   "outputs": [],
   "source": [
    "class Linkedin:\n",
    "\n",
    "    def getJobLinks(self,pageUrl):\n",
    "        jobLinks    = []\n",
    "        data     = requests.get(pageUrl).text\n",
    "        soup     = BeautifulSoup(data)\n",
    "        links = soup.findAll('a',attrs={'class':'base-card__full-link absolute top-0 right-0 bottom-0 left-0 p-0 z-[2]'})\n",
    "\n",
    "        for link in links:\n",
    "            jobLinks.append(link['href'])\n",
    "        return jobLinks\n",
    "\n",
    "    def getJobDetails(self,url):\n",
    "        data           = requests.get(url).text\n",
    "        soup           = BeautifulSoup(data)\n",
    "        jobTitle      = soup.find('h1').text\n",
    "        companyName       = ' '.join(soup.find(\"span\",class_=\"topcard__flavor\").text.split())\n",
    "        jobLocation        = ' '.join(soup.find(\"span\",class_=\"topcard__flavor topcard__flavor--bullet\").text.split())\n",
    "        jobInfo       = ' '.join(soup.find(\"div\",class_=\"show-more-less-html__markup show-more-less-html__markup--clamp-after-5\").text.split())\n",
    "        releaseDate      = ' '.join(soup.find(\"span\",class_=\"posted-time-ago__text topcard__flavor--metadata\").text.split())\n",
    "\n",
    "        infoLabel = soup.find(\"ul\",class_=\"description__job-criteria-list\").findAll('h3')\n",
    "        infoValue = soup.find(\"ul\",class_=\"description__job-criteria-list\").findAll('span')\n",
    "        infoCriteria = {}\n",
    "        for i in range(len(infoLabel)):\n",
    "            key = ' '.join(infoLabel[i].text.split())\n",
    "            value = ' '.join(infoValue[i].text.split())\n",
    "            infoCriteria[key] = value\n",
    "\n",
    "        details = {\"Job Title\"     : jobTitle,\n",
    "               \"Company Name\" : companyName,\n",
    "                \"Job Location\"     : jobLocation,\n",
    "                \"Job Description\"  : jobInfo,\n",
    "                \"Release Date\"        : releaseDate}\n",
    "        details.update(infoCriteria)\n",
    "        return details\n",
    "    \n",
    "    def jobsToSearch(self):\n",
    "        jobs = []\n",
    "        numberOfJobs = int(input(\"Enter the Number of jobs you want to search for :\"))\n",
    "        i = 1\n",
    "        while (i<=numberOfJobs):\n",
    "            jobName = input(\"Enter the \"+str(i)+\" job \")\n",
    "            print()\n",
    "            jobs.append(jobName)\n",
    "            i+=1\n",
    "        return jobs\n",
    "    \n",
    "    def renameColumns(self,oldName,newName):\n",
    "        df=df.rename(columns = {oldName:newName})\n",
    "        return None\n",
    "    \n",
    "    def getJobs(self):\n",
    "        jobs = self.jobsToSearch()\n",
    "        df = pd.DataFrame()\n",
    "        for job in jobs:\n",
    "            # concatnating the job with the search job link and inserting the whitespaces with %20 because it's the delimiter\n",
    "            url = 'https://www.linkedin.com/jobs/search/?start=0&keywords=' + job.replace(' ','%20')\n",
    "            # getting the job links from the job page\n",
    "            links = getJobLinks(url)\n",
    "            # iterating over the links and getting the details of each link\n",
    "            for link in links:\n",
    "                try:\n",
    "                    new_df = pd.DataFrame(getJobDetails(link),index=[0])\n",
    "                    df = pd.concat([df,new_df],ignore_index=True)\n",
    "                except:\n",
    "                    print(link)\n",
    "        \n",
    "        return df\n",
    "    \n",
    "    def sortSentences(self,df_column):\n",
    "        for i in range(0,len(df_column)):\n",
    "            sentences = nltk.sent_tokenize(df_column[i])\n",
    "            sentence=\"\\n\\n\".join(sentences)\n",
    "        return sentence\n",
    "    \n",
    "    def saveToCsvFile(self,fileName,dataframe):\n",
    "        dataframe.to_csv(fileName+\".csv\",index=False,encoding='utf-8')\n",
    "        return \"Done\"\n",
    "        \n",
    "    def saveToXslxFile(self,fileName,dataframe):\n",
    "        dataframe.to_excel(fileName+\".xslx\",index=False,encoding='utf-8')\n",
    "        return \"Done\"\n"
   ]
  },
  {
   "cell_type": "code",
   "execution_count": 18,
   "id": "bb5b9200",
   "metadata": {},
   "outputs": [],
   "source": [
    "df.to_csv(\"Linkedin Jobs in Egypt Final.csv\",index=False,encoding='utf-8')"
   ]
  },
  {
   "cell_type": "code",
   "execution_count": null,
   "id": "7b665570",
   "metadata": {},
   "outputs": [],
   "source": []
  },
  {
   "cell_type": "code",
   "execution_count": 19,
   "id": "4e77e221",
   "metadata": {},
   "outputs": [
    {
     "name": "stdout",
     "output_type": "stream",
     "text": [
      "<class 'pandas.core.frame.DataFrame'>\n",
      "RangeIndex: 70 entries, 0 to 69\n",
      "Data columns (total 9 columns):\n",
      " #   Column           Non-Null Count  Dtype \n",
      "---  ------           --------------  ----- \n",
      " 0   Job Title        70 non-null     object\n",
      " 1   Company Name     70 non-null     object\n",
      " 2   Job Location     70 non-null     object\n",
      " 3   Job Description  70 non-null     object\n",
      " 4   Release Date     70 non-null     object\n",
      " 5   Seniority level  70 non-null     object\n",
      " 6   Employment type  70 non-null     object\n",
      " 7   Department       70 non-null     object\n",
      " 8   Industries       70 non-null     object\n",
      "dtypes: object(9)\n",
      "memory usage: 5.0+ KB\n"
     ]
    }
   ],
   "source": [
    "df = pd.read_csv('Linkedin Jobs in Egypt Final.csv')\n",
    "df.info()"
   ]
  },
  {
   "cell_type": "code",
   "execution_count": 20,
   "id": "74bd0a62",
   "metadata": {},
   "outputs": [
    {
     "data": {
      "text/html": [
       "<div>\n",
       "<style scoped>\n",
       "    .dataframe tbody tr th:only-of-type {\n",
       "        vertical-align: middle;\n",
       "    }\n",
       "\n",
       "    .dataframe tbody tr th {\n",
       "        vertical-align: top;\n",
       "    }\n",
       "\n",
       "    .dataframe thead th {\n",
       "        text-align: right;\n",
       "    }\n",
       "</style>\n",
       "<table border=\"1\" class=\"dataframe\">\n",
       "  <thead>\n",
       "    <tr style=\"text-align: right;\">\n",
       "      <th></th>\n",
       "      <th>Job Title</th>\n",
       "      <th>Company Name</th>\n",
       "      <th>Job Location</th>\n",
       "      <th>Job Description</th>\n",
       "      <th>Release Date</th>\n",
       "      <th>Seniority level</th>\n",
       "      <th>Employment type</th>\n",
       "      <th>Department</th>\n",
       "      <th>Industries</th>\n",
       "    </tr>\n",
       "  </thead>\n",
       "  <tbody>\n",
       "    <tr>\n",
       "      <th>0</th>\n",
       "      <td>Data Analyst</td>\n",
       "      <td>Saks OFF 5TH</td>\n",
       "      <td>New York City Metropolitan Area</td>\n",
       "      <td>Data Analyst, Marketing Analytics and Insights...</td>\n",
       "      <td>5 days ago</td>\n",
       "      <td>Mid-Senior level</td>\n",
       "      <td>Full-time</td>\n",
       "      <td>Information Technology</td>\n",
       "      <td>Retail</td>\n",
       "    </tr>\n",
       "    <tr>\n",
       "      <th>1</th>\n",
       "      <td>Data Analyst - Recent Graduate</td>\n",
       "      <td>PayPal</td>\n",
       "      <td>Buffalo-Niagara Falls Area</td>\n",
       "      <td>At PayPal (NASDAQ: PYPL), we believe that ever...</td>\n",
       "      <td>1 week ago</td>\n",
       "      <td>Not Applicable</td>\n",
       "      <td>Full-time</td>\n",
       "      <td>Information Technology</td>\n",
       "      <td>Software Development, Technology, Information ...</td>\n",
       "    </tr>\n",
       "    <tr>\n",
       "      <th>2</th>\n",
       "      <td>Data Analyst</td>\n",
       "      <td>Segpay</td>\n",
       "      <td>Deerfield Beach, FL</td>\n",
       "      <td>Job SummaryThe Data Analyst is responsible for...</td>\n",
       "      <td>5 days ago</td>\n",
       "      <td>Entry level</td>\n",
       "      <td>Full-time</td>\n",
       "      <td>Information Technology</td>\n",
       "      <td>Software Development</td>\n",
       "    </tr>\n",
       "    <tr>\n",
       "      <th>3</th>\n",
       "      <td>Data Analyst</td>\n",
       "      <td>SimpleTire</td>\n",
       "      <td>United States</td>\n",
       "      <td>The Data Analyst - eCommerce reports directly ...</td>\n",
       "      <td>5 days ago</td>\n",
       "      <td>Associate</td>\n",
       "      <td>Full-time</td>\n",
       "      <td>Analyst</td>\n",
       "      <td>Technology, Information and Internet, Manufact...</td>\n",
       "    </tr>\n",
       "    <tr>\n",
       "      <th>4</th>\n",
       "      <td>Data Analyst - Recent Graduate</td>\n",
       "      <td>PayPal</td>\n",
       "      <td>Chicago, IL</td>\n",
       "      <td>At PayPal (NASDAQ: PYPL), we believe that ever...</td>\n",
       "      <td>1 week ago</td>\n",
       "      <td>Not Applicable</td>\n",
       "      <td>Full-time</td>\n",
       "      <td>Information Technology</td>\n",
       "      <td>Software Development, Technology, Information ...</td>\n",
       "    </tr>\n",
       "  </tbody>\n",
       "</table>\n",
       "</div>"
      ],
      "text/plain": [
       "                        Job Title  Company Name  \\\n",
       "0                    Data Analyst  Saks OFF 5TH   \n",
       "1  Data Analyst - Recent Graduate        PayPal   \n",
       "2                    Data Analyst        Segpay   \n",
       "3                    Data Analyst    SimpleTire   \n",
       "4  Data Analyst - Recent Graduate        PayPal   \n",
       "\n",
       "                      Job Location  \\\n",
       "0  New York City Metropolitan Area   \n",
       "1       Buffalo-Niagara Falls Area   \n",
       "2              Deerfield Beach, FL   \n",
       "3                    United States   \n",
       "4                      Chicago, IL   \n",
       "\n",
       "                                     Job Description Release Date  \\\n",
       "0  Data Analyst, Marketing Analytics and Insights...   5 days ago   \n",
       "1  At PayPal (NASDAQ: PYPL), we believe that ever...   1 week ago   \n",
       "2  Job SummaryThe Data Analyst is responsible for...   5 days ago   \n",
       "3  The Data Analyst - eCommerce reports directly ...   5 days ago   \n",
       "4  At PayPal (NASDAQ: PYPL), we believe that ever...   1 week ago   \n",
       "\n",
       "    Seniority level Employment type              Department  \\\n",
       "0  Mid-Senior level       Full-time  Information Technology   \n",
       "1    Not Applicable       Full-time  Information Technology   \n",
       "2       Entry level       Full-time  Information Technology   \n",
       "3         Associate       Full-time                 Analyst   \n",
       "4    Not Applicable       Full-time  Information Technology   \n",
       "\n",
       "                                          Industries  \n",
       "0                                             Retail  \n",
       "1  Software Development, Technology, Information ...  \n",
       "2                               Software Development  \n",
       "3  Technology, Information and Internet, Manufact...  \n",
       "4  Software Development, Technology, Information ...  "
      ]
     },
     "execution_count": 20,
     "metadata": {},
     "output_type": "execute_result"
    }
   ],
   "source": [
    "df.head()"
   ]
  },
  {
   "cell_type": "code",
   "execution_count": 21,
   "id": "0102653e",
   "metadata": {},
   "outputs": [],
   "source": [
    "data = dict(\n",
    "        type = 'choropleth',\n",
    "        colorscale = 'Viridis',\n",
    "        locations = df['Job Location'],\n",
    "        locationmode = \"country names\",\n",
    "        z = df['Job Title'],\n",
    "        text = df['Job Location'],\n",
    "        colorbar = {'title' : 'Job Location'},\n",
    "      )"
   ]
  },
  {
   "cell_type": "code",
   "execution_count": 22,
   "id": "861f0466",
   "metadata": {},
   "outputs": [],
   "source": [
    "layout = dict(title = 'Job Number',\n",
    "              geo = dict(projection = {'type':'mercator'})\n",
    "             )"
   ]
  },
  {
   "cell_type": "code",
   "execution_count": 23,
   "id": "2ae2af02",
   "metadata": {},
   "outputs": [
    {
     "data": {
      "application/vnd.plotly.v1+json": {
       "config": {
        "linkText": "Export to plot.ly",
        "plotlyServerURL": "https://plot.ly",
        "showLink": false
       },
       "data": [
        {
         "colorbar": {
          "title": {
           "text": "Job Location"
          }
         },
         "colorscale": [
          [
           0,
           "#440154"
          ],
          [
           0.1111111111111111,
           "#482878"
          ],
          [
           0.2222222222222222,
           "#3e4989"
          ],
          [
           0.3333333333333333,
           "#31688e"
          ],
          [
           0.4444444444444444,
           "#26828e"
          ],
          [
           0.5555555555555556,
           "#1f9e89"
          ],
          [
           0.6666666666666666,
           "#35b779"
          ],
          [
           0.7777777777777778,
           "#6ece58"
          ],
          [
           0.8888888888888888,
           "#b5de2b"
          ],
          [
           1,
           "#fde725"
          ]
         ],
         "locationmode": "country names",
         "locations": [
          "New York City Metropolitan Area",
          "Buffalo-Niagara Falls Area",
          "Deerfield Beach, FL",
          "United States",
          "Chicago, IL",
          "Austin, TX",
          "Dallas-Fort Worth Metroplex",
          "Chicago, IL",
          "Miami, FL",
          "United, PA",
          "California, United States",
          "Atlanta, GA",
          "Dallas, TX",
          "Columbus, IN",
          "Daly City, CA",
          "Atlanta, GA",
          "New Jersey, United States",
          "Nashville, TN",
          "Dallas, TX",
          "Scottsdale, AZ",
          "Detroit, MI",
          "West Des Moines, IA",
          "Chicago, IL",
          "Washington, United States",
          "Austin, TX",
          "United States",
          "New York, NY",
          "Moorestown-Lenola, NJ",
          "Somerville, MA",
          "New York, United States",
          "Redmond, WA",
          "Willow Grove, PA",
          "California, United States",
          "Hoboken, NJ",
          "Cambridge, MA",
          "Seattle, WA",
          "San Diego, CA",
          "Hoboken, NJ",
          "New York, United States",
          "United States",
          "New Jersey, United States",
          "Salt Lake City, UT",
          "Iselin, NJ",
          "Mountain View, CA",
          "Oxon Hill, MD",
          "Moorestown, NJ",
          "Indianapolis, IN",
          "Chicago, IL",
          "Pleasanton, CA",
          "Mountain View, CA",
          "Dubuque, IA",
          "Austin, TX",
          "Greater Philadelphia",
          "Long Beach, CA",
          "Pittsburgh, PA",
          "Alpharetta, GA",
          "Manhattan, NY",
          "United States",
          "Denver, CO",
          "United States",
          "King of Prussia, PA",
          "Denver, CO",
          "United States",
          "Charlotte, NC",
          "United States",
          "Charlotte, NC",
          "Austin, TX",
          "Phoenix, AZ",
          "United States",
          "Portland, OR"
         ],
         "text": [
          "New York City Metropolitan Area",
          "Buffalo-Niagara Falls Area",
          "Deerfield Beach, FL",
          "United States",
          "Chicago, IL",
          "Austin, TX",
          "Dallas-Fort Worth Metroplex",
          "Chicago, IL",
          "Miami, FL",
          "United, PA",
          "California, United States",
          "Atlanta, GA",
          "Dallas, TX",
          "Columbus, IN",
          "Daly City, CA",
          "Atlanta, GA",
          "New Jersey, United States",
          "Nashville, TN",
          "Dallas, TX",
          "Scottsdale, AZ",
          "Detroit, MI",
          "West Des Moines, IA",
          "Chicago, IL",
          "Washington, United States",
          "Austin, TX",
          "United States",
          "New York, NY",
          "Moorestown-Lenola, NJ",
          "Somerville, MA",
          "New York, United States",
          "Redmond, WA",
          "Willow Grove, PA",
          "California, United States",
          "Hoboken, NJ",
          "Cambridge, MA",
          "Seattle, WA",
          "San Diego, CA",
          "Hoboken, NJ",
          "New York, United States",
          "United States",
          "New Jersey, United States",
          "Salt Lake City, UT",
          "Iselin, NJ",
          "Mountain View, CA",
          "Oxon Hill, MD",
          "Moorestown, NJ",
          "Indianapolis, IN",
          "Chicago, IL",
          "Pleasanton, CA",
          "Mountain View, CA",
          "Dubuque, IA",
          "Austin, TX",
          "Greater Philadelphia",
          "Long Beach, CA",
          "Pittsburgh, PA",
          "Alpharetta, GA",
          "Manhattan, NY",
          "United States",
          "Denver, CO",
          "United States",
          "King of Prussia, PA",
          "Denver, CO",
          "United States",
          "Charlotte, NC",
          "United States",
          "Charlotte, NC",
          "Austin, TX",
          "Phoenix, AZ",
          "United States",
          "Portland, OR"
         ],
         "type": "choropleth",
         "z": [
          "Data Analyst",
          "Data Analyst - Recent Graduate",
          "Data Analyst",
          "Data Analyst",
          "Data Analyst - Recent Graduate",
          "Data Analyst - Recent Graduate",
          "Data Analyst",
          "Business Data Analyst",
          "Data Analyst",
          "Data Analyst",
          "Data Analyst",
          "Data Analyst",
          "Data Analyst",
          "Business Data Analyst",
          "Marketing Data Analyst",
          "Data Analyst",
          "Data Analyst",
          "Data Analyst",
          "Data Analyst",
          "Data Analyst - Recent Graduate",
          "Data Analyst",
          "Data Analyst",
          "Junior Data Analyst",
          "Data Analyst",
          "Junior Data Scientist",
          "Data Scientist",
          "Data Scientist",
          "Artificial Intelligence / Machine Learning Engineer Asc Mgr",
          "Machine Learning Research Scientist",
          "Healthcare Data Scientist",
          "Data Scientist",
          "Data Scientist",
          "Bioinformatics Data Scientist",
          "Data Scientist",
          "Data Scientist, Human Factors and User Research",
          "Data Scientist",
          "Deep Learning Engineer",
          "Data Scientist",
          "Data Scientist",
          "Data Scientist",
          "Data Scientist",
          "Data Scientist",
          "Data Scientist",
          "Deep Learning Software Engineer ",
          "Jr. Data Scientist",
          "AI/Machine Learning Engineer",
          "REMOTE Manual Tester",
          "Junior Software Engineer (Test)",
          "Entry-Level QA Automation",
          "Associate Software Engineer In Test",
          "Software Engineer in Test (Remote Position)",
          "QA Engineer",
          "Software Testing Analyst 1",
          "QA Test Engineer",
          "Quality Assurance Engineer",
          "Quality Assurance (QA) Specialist - Software Testing",
          "Quality Assurance Engineer",
          "Software Engineer in Test (Remote)",
          "Manual QA Engineer - (Remote - US)",
          "Manual Tester-Offshore",
          "Manual Test Engineer (QA) REMOTE",
          "Manual Software Testing (QA) Associate (On-Site)",
          "Software Engineer - Testing",
          "Quality Assurance Analyst",
          "Quality Assurance Analyst",
          "Manual QA Tester",
          "Software Quality Assurance Tester",
          "Manual QA",
          "Quality Analyst",
          "Software Quality Assurance Engineer"
         ]
        }
       ],
       "layout": {
        "geo": {
         "projection": {
          "type": "mercator"
         }
        },
        "template": {
         "data": {
          "bar": [
           {
            "error_x": {
             "color": "#2a3f5f"
            },
            "error_y": {
             "color": "#2a3f5f"
            },
            "marker": {
             "line": {
              "color": "#E5ECF6",
              "width": 0.5
             },
             "pattern": {
              "fillmode": "overlay",
              "size": 10,
              "solidity": 0.2
             }
            },
            "type": "bar"
           }
          ],
          "barpolar": [
           {
            "marker": {
             "line": {
              "color": "#E5ECF6",
              "width": 0.5
             },
             "pattern": {
              "fillmode": "overlay",
              "size": 10,
              "solidity": 0.2
             }
            },
            "type": "barpolar"
           }
          ],
          "carpet": [
           {
            "aaxis": {
             "endlinecolor": "#2a3f5f",
             "gridcolor": "white",
             "linecolor": "white",
             "minorgridcolor": "white",
             "startlinecolor": "#2a3f5f"
            },
            "baxis": {
             "endlinecolor": "#2a3f5f",
             "gridcolor": "white",
             "linecolor": "white",
             "minorgridcolor": "white",
             "startlinecolor": "#2a3f5f"
            },
            "type": "carpet"
           }
          ],
          "choropleth": [
           {
            "colorbar": {
             "outlinewidth": 0,
             "ticks": ""
            },
            "type": "choropleth"
           }
          ],
          "contour": [
           {
            "colorbar": {
             "outlinewidth": 0,
             "ticks": ""
            },
            "colorscale": [
             [
              0,
              "#0d0887"
             ],
             [
              0.1111111111111111,
              "#46039f"
             ],
             [
              0.2222222222222222,
              "#7201a8"
             ],
             [
              0.3333333333333333,
              "#9c179e"
             ],
             [
              0.4444444444444444,
              "#bd3786"
             ],
             [
              0.5555555555555556,
              "#d8576b"
             ],
             [
              0.6666666666666666,
              "#ed7953"
             ],
             [
              0.7777777777777778,
              "#fb9f3a"
             ],
             [
              0.8888888888888888,
              "#fdca26"
             ],
             [
              1,
              "#f0f921"
             ]
            ],
            "type": "contour"
           }
          ],
          "contourcarpet": [
           {
            "colorbar": {
             "outlinewidth": 0,
             "ticks": ""
            },
            "type": "contourcarpet"
           }
          ],
          "heatmap": [
           {
            "colorbar": {
             "outlinewidth": 0,
             "ticks": ""
            },
            "colorscale": [
             [
              0,
              "#0d0887"
             ],
             [
              0.1111111111111111,
              "#46039f"
             ],
             [
              0.2222222222222222,
              "#7201a8"
             ],
             [
              0.3333333333333333,
              "#9c179e"
             ],
             [
              0.4444444444444444,
              "#bd3786"
             ],
             [
              0.5555555555555556,
              "#d8576b"
             ],
             [
              0.6666666666666666,
              "#ed7953"
             ],
             [
              0.7777777777777778,
              "#fb9f3a"
             ],
             [
              0.8888888888888888,
              "#fdca26"
             ],
             [
              1,
              "#f0f921"
             ]
            ],
            "type": "heatmap"
           }
          ],
          "heatmapgl": [
           {
            "colorbar": {
             "outlinewidth": 0,
             "ticks": ""
            },
            "colorscale": [
             [
              0,
              "#0d0887"
             ],
             [
              0.1111111111111111,
              "#46039f"
             ],
             [
              0.2222222222222222,
              "#7201a8"
             ],
             [
              0.3333333333333333,
              "#9c179e"
             ],
             [
              0.4444444444444444,
              "#bd3786"
             ],
             [
              0.5555555555555556,
              "#d8576b"
             ],
             [
              0.6666666666666666,
              "#ed7953"
             ],
             [
              0.7777777777777778,
              "#fb9f3a"
             ],
             [
              0.8888888888888888,
              "#fdca26"
             ],
             [
              1,
              "#f0f921"
             ]
            ],
            "type": "heatmapgl"
           }
          ],
          "histogram": [
           {
            "marker": {
             "pattern": {
              "fillmode": "overlay",
              "size": 10,
              "solidity": 0.2
             }
            },
            "type": "histogram"
           }
          ],
          "histogram2d": [
           {
            "colorbar": {
             "outlinewidth": 0,
             "ticks": ""
            },
            "colorscale": [
             [
              0,
              "#0d0887"
             ],
             [
              0.1111111111111111,
              "#46039f"
             ],
             [
              0.2222222222222222,
              "#7201a8"
             ],
             [
              0.3333333333333333,
              "#9c179e"
             ],
             [
              0.4444444444444444,
              "#bd3786"
             ],
             [
              0.5555555555555556,
              "#d8576b"
             ],
             [
              0.6666666666666666,
              "#ed7953"
             ],
             [
              0.7777777777777778,
              "#fb9f3a"
             ],
             [
              0.8888888888888888,
              "#fdca26"
             ],
             [
              1,
              "#f0f921"
             ]
            ],
            "type": "histogram2d"
           }
          ],
          "histogram2dcontour": [
           {
            "colorbar": {
             "outlinewidth": 0,
             "ticks": ""
            },
            "colorscale": [
             [
              0,
              "#0d0887"
             ],
             [
              0.1111111111111111,
              "#46039f"
             ],
             [
              0.2222222222222222,
              "#7201a8"
             ],
             [
              0.3333333333333333,
              "#9c179e"
             ],
             [
              0.4444444444444444,
              "#bd3786"
             ],
             [
              0.5555555555555556,
              "#d8576b"
             ],
             [
              0.6666666666666666,
              "#ed7953"
             ],
             [
              0.7777777777777778,
              "#fb9f3a"
             ],
             [
              0.8888888888888888,
              "#fdca26"
             ],
             [
              1,
              "#f0f921"
             ]
            ],
            "type": "histogram2dcontour"
           }
          ],
          "mesh3d": [
           {
            "colorbar": {
             "outlinewidth": 0,
             "ticks": ""
            },
            "type": "mesh3d"
           }
          ],
          "parcoords": [
           {
            "line": {
             "colorbar": {
              "outlinewidth": 0,
              "ticks": ""
             }
            },
            "type": "parcoords"
           }
          ],
          "pie": [
           {
            "automargin": true,
            "type": "pie"
           }
          ],
          "scatter": [
           {
            "fillpattern": {
             "fillmode": "overlay",
             "size": 10,
             "solidity": 0.2
            },
            "type": "scatter"
           }
          ],
          "scatter3d": [
           {
            "line": {
             "colorbar": {
              "outlinewidth": 0,
              "ticks": ""
             }
            },
            "marker": {
             "colorbar": {
              "outlinewidth": 0,
              "ticks": ""
             }
            },
            "type": "scatter3d"
           }
          ],
          "scattercarpet": [
           {
            "marker": {
             "colorbar": {
              "outlinewidth": 0,
              "ticks": ""
             }
            },
            "type": "scattercarpet"
           }
          ],
          "scattergeo": [
           {
            "marker": {
             "colorbar": {
              "outlinewidth": 0,
              "ticks": ""
             }
            },
            "type": "scattergeo"
           }
          ],
          "scattergl": [
           {
            "marker": {
             "colorbar": {
              "outlinewidth": 0,
              "ticks": ""
             }
            },
            "type": "scattergl"
           }
          ],
          "scattermapbox": [
           {
            "marker": {
             "colorbar": {
              "outlinewidth": 0,
              "ticks": ""
             }
            },
            "type": "scattermapbox"
           }
          ],
          "scatterpolar": [
           {
            "marker": {
             "colorbar": {
              "outlinewidth": 0,
              "ticks": ""
             }
            },
            "type": "scatterpolar"
           }
          ],
          "scatterpolargl": [
           {
            "marker": {
             "colorbar": {
              "outlinewidth": 0,
              "ticks": ""
             }
            },
            "type": "scatterpolargl"
           }
          ],
          "scatterternary": [
           {
            "marker": {
             "colorbar": {
              "outlinewidth": 0,
              "ticks": ""
             }
            },
            "type": "scatterternary"
           }
          ],
          "surface": [
           {
            "colorbar": {
             "outlinewidth": 0,
             "ticks": ""
            },
            "colorscale": [
             [
              0,
              "#0d0887"
             ],
             [
              0.1111111111111111,
              "#46039f"
             ],
             [
              0.2222222222222222,
              "#7201a8"
             ],
             [
              0.3333333333333333,
              "#9c179e"
             ],
             [
              0.4444444444444444,
              "#bd3786"
             ],
             [
              0.5555555555555556,
              "#d8576b"
             ],
             [
              0.6666666666666666,
              "#ed7953"
             ],
             [
              0.7777777777777778,
              "#fb9f3a"
             ],
             [
              0.8888888888888888,
              "#fdca26"
             ],
             [
              1,
              "#f0f921"
             ]
            ],
            "type": "surface"
           }
          ],
          "table": [
           {
            "cells": {
             "fill": {
              "color": "#EBF0F8"
             },
             "line": {
              "color": "white"
             }
            },
            "header": {
             "fill": {
              "color": "#C8D4E3"
             },
             "line": {
              "color": "white"
             }
            },
            "type": "table"
           }
          ]
         },
         "layout": {
          "annotationdefaults": {
           "arrowcolor": "#2a3f5f",
           "arrowhead": 0,
           "arrowwidth": 1
          },
          "autotypenumbers": "strict",
          "coloraxis": {
           "colorbar": {
            "outlinewidth": 0,
            "ticks": ""
           }
          },
          "colorscale": {
           "diverging": [
            [
             0,
             "#8e0152"
            ],
            [
             0.1,
             "#c51b7d"
            ],
            [
             0.2,
             "#de77ae"
            ],
            [
             0.3,
             "#f1b6da"
            ],
            [
             0.4,
             "#fde0ef"
            ],
            [
             0.5,
             "#f7f7f7"
            ],
            [
             0.6,
             "#e6f5d0"
            ],
            [
             0.7,
             "#b8e186"
            ],
            [
             0.8,
             "#7fbc41"
            ],
            [
             0.9,
             "#4d9221"
            ],
            [
             1,
             "#276419"
            ]
           ],
           "sequential": [
            [
             0,
             "#0d0887"
            ],
            [
             0.1111111111111111,
             "#46039f"
            ],
            [
             0.2222222222222222,
             "#7201a8"
            ],
            [
             0.3333333333333333,
             "#9c179e"
            ],
            [
             0.4444444444444444,
             "#bd3786"
            ],
            [
             0.5555555555555556,
             "#d8576b"
            ],
            [
             0.6666666666666666,
             "#ed7953"
            ],
            [
             0.7777777777777778,
             "#fb9f3a"
            ],
            [
             0.8888888888888888,
             "#fdca26"
            ],
            [
             1,
             "#f0f921"
            ]
           ],
           "sequentialminus": [
            [
             0,
             "#0d0887"
            ],
            [
             0.1111111111111111,
             "#46039f"
            ],
            [
             0.2222222222222222,
             "#7201a8"
            ],
            [
             0.3333333333333333,
             "#9c179e"
            ],
            [
             0.4444444444444444,
             "#bd3786"
            ],
            [
             0.5555555555555556,
             "#d8576b"
            ],
            [
             0.6666666666666666,
             "#ed7953"
            ],
            [
             0.7777777777777778,
             "#fb9f3a"
            ],
            [
             0.8888888888888888,
             "#fdca26"
            ],
            [
             1,
             "#f0f921"
            ]
           ]
          },
          "colorway": [
           "#636efa",
           "#EF553B",
           "#00cc96",
           "#ab63fa",
           "#FFA15A",
           "#19d3f3",
           "#FF6692",
           "#B6E880",
           "#FF97FF",
           "#FECB52"
          ],
          "font": {
           "color": "#2a3f5f"
          },
          "geo": {
           "bgcolor": "white",
           "lakecolor": "white",
           "landcolor": "#E5ECF6",
           "showlakes": true,
           "showland": true,
           "subunitcolor": "white"
          },
          "hoverlabel": {
           "align": "left"
          },
          "hovermode": "closest",
          "mapbox": {
           "style": "light"
          },
          "paper_bgcolor": "white",
          "plot_bgcolor": "#E5ECF6",
          "polar": {
           "angularaxis": {
            "gridcolor": "white",
            "linecolor": "white",
            "ticks": ""
           },
           "bgcolor": "#E5ECF6",
           "radialaxis": {
            "gridcolor": "white",
            "linecolor": "white",
            "ticks": ""
           }
          },
          "scene": {
           "xaxis": {
            "backgroundcolor": "#E5ECF6",
            "gridcolor": "white",
            "gridwidth": 2,
            "linecolor": "white",
            "showbackground": true,
            "ticks": "",
            "zerolinecolor": "white"
           },
           "yaxis": {
            "backgroundcolor": "#E5ECF6",
            "gridcolor": "white",
            "gridwidth": 2,
            "linecolor": "white",
            "showbackground": true,
            "ticks": "",
            "zerolinecolor": "white"
           },
           "zaxis": {
            "backgroundcolor": "#E5ECF6",
            "gridcolor": "white",
            "gridwidth": 2,
            "linecolor": "white",
            "showbackground": true,
            "ticks": "",
            "zerolinecolor": "white"
           }
          },
          "shapedefaults": {
           "line": {
            "color": "#2a3f5f"
           }
          },
          "ternary": {
           "aaxis": {
            "gridcolor": "white",
            "linecolor": "white",
            "ticks": ""
           },
           "baxis": {
            "gridcolor": "white",
            "linecolor": "white",
            "ticks": ""
           },
           "bgcolor": "#E5ECF6",
           "caxis": {
            "gridcolor": "white",
            "linecolor": "white",
            "ticks": ""
           }
          },
          "title": {
           "x": 0.05
          },
          "xaxis": {
           "automargin": true,
           "gridcolor": "white",
           "linecolor": "white",
           "ticks": "",
           "title": {
            "standoff": 15
           },
           "zerolinecolor": "white",
           "zerolinewidth": 2
          },
          "yaxis": {
           "automargin": true,
           "gridcolor": "white",
           "linecolor": "white",
           "ticks": "",
           "title": {
            "standoff": 15
           },
           "zerolinecolor": "white",
           "zerolinewidth": 2
          }
         }
        },
        "title": {
         "text": "Job Number"
        }
       }
      },
      "text/html": [
       "<div>                            <div id=\"03066285-4c57-4ca7-93a1-900561b804da\" class=\"plotly-graph-div\" style=\"height:525px; width:100%;\"></div>            <script type=\"text/javascript\">                require([\"plotly\"], function(Plotly) {                    window.PLOTLYENV=window.PLOTLYENV || {};                                    if (document.getElementById(\"03066285-4c57-4ca7-93a1-900561b804da\")) {                    Plotly.newPlot(                        \"03066285-4c57-4ca7-93a1-900561b804da\",                        [{\"colorbar\":{\"title\":{\"text\":\"Job Location\"}},\"colorscale\":[[0.0,\"#440154\"],[0.1111111111111111,\"#482878\"],[0.2222222222222222,\"#3e4989\"],[0.3333333333333333,\"#31688e\"],[0.4444444444444444,\"#26828e\"],[0.5555555555555556,\"#1f9e89\"],[0.6666666666666666,\"#35b779\"],[0.7777777777777778,\"#6ece58\"],[0.8888888888888888,\"#b5de2b\"],[1.0,\"#fde725\"]],\"locationmode\":\"country names\",\"locations\":[\"New York City Metropolitan Area\",\"Buffalo-Niagara Falls Area\",\"Deerfield Beach, FL\",\"United States\",\"Chicago, IL\",\"Austin, TX\",\"Dallas-Fort Worth Metroplex\",\"Chicago, IL\",\"Miami, FL\",\"United, PA\",\"California, United States\",\"Atlanta, GA\",\"Dallas, TX\",\"Columbus, IN\",\"Daly City, CA\",\"Atlanta, GA\",\"New Jersey, United States\",\"Nashville, TN\",\"Dallas, TX\",\"Scottsdale, AZ\",\"Detroit, MI\",\"West Des Moines, IA\",\"Chicago, IL\",\"Washington, United States\",\"Austin, TX\",\"United States\",\"New York, NY\",\"Moorestown-Lenola, NJ\",\"Somerville, MA\",\"New York, United States\",\"Redmond, WA\",\"Willow Grove, PA\",\"California, United States\",\"Hoboken, NJ\",\"Cambridge, MA\",\"Seattle, WA\",\"San Diego, CA\",\"Hoboken, NJ\",\"New York, United States\",\"United States\",\"New Jersey, United States\",\"Salt Lake City, UT\",\"Iselin, NJ\",\"Mountain View, CA\",\"Oxon Hill, MD\",\"Moorestown, NJ\",\"Indianapolis, IN\",\"Chicago, IL\",\"Pleasanton, CA\",\"Mountain View, CA\",\"Dubuque, IA\",\"Austin, TX\",\"Greater Philadelphia\",\"Long Beach, CA\",\"Pittsburgh, PA\",\"Alpharetta, GA\",\"Manhattan, NY\",\"United States\",\"Denver, CO\",\"United States\",\"King of Prussia, PA\",\"Denver, CO\",\"United States\",\"Charlotte, NC\",\"United States\",\"Charlotte, NC\",\"Austin, TX\",\"Phoenix, AZ\",\"United States\",\"Portland, OR\"],\"text\":[\"New York City Metropolitan Area\",\"Buffalo-Niagara Falls Area\",\"Deerfield Beach, FL\",\"United States\",\"Chicago, IL\",\"Austin, TX\",\"Dallas-Fort Worth Metroplex\",\"Chicago, IL\",\"Miami, FL\",\"United, PA\",\"California, United States\",\"Atlanta, GA\",\"Dallas, TX\",\"Columbus, IN\",\"Daly City, CA\",\"Atlanta, GA\",\"New Jersey, United States\",\"Nashville, TN\",\"Dallas, TX\",\"Scottsdale, AZ\",\"Detroit, MI\",\"West Des Moines, IA\",\"Chicago, IL\",\"Washington, United States\",\"Austin, TX\",\"United States\",\"New York, NY\",\"Moorestown-Lenola, NJ\",\"Somerville, MA\",\"New York, United States\",\"Redmond, WA\",\"Willow Grove, PA\",\"California, United States\",\"Hoboken, NJ\",\"Cambridge, MA\",\"Seattle, WA\",\"San Diego, CA\",\"Hoboken, NJ\",\"New York, United States\",\"United States\",\"New Jersey, United States\",\"Salt Lake City, UT\",\"Iselin, NJ\",\"Mountain View, CA\",\"Oxon Hill, MD\",\"Moorestown, NJ\",\"Indianapolis, IN\",\"Chicago, IL\",\"Pleasanton, CA\",\"Mountain View, CA\",\"Dubuque, IA\",\"Austin, TX\",\"Greater Philadelphia\",\"Long Beach, CA\",\"Pittsburgh, PA\",\"Alpharetta, GA\",\"Manhattan, NY\",\"United States\",\"Denver, CO\",\"United States\",\"King of Prussia, PA\",\"Denver, CO\",\"United States\",\"Charlotte, NC\",\"United States\",\"Charlotte, NC\",\"Austin, TX\",\"Phoenix, AZ\",\"United States\",\"Portland, OR\"],\"z\":[\"Data Analyst\",\"Data Analyst - Recent Graduate\",\"Data Analyst\",\"Data Analyst\",\"Data Analyst - Recent Graduate\",\"Data Analyst - Recent Graduate\",\"Data Analyst\",\"Business Data Analyst\",\"Data Analyst\",\"Data Analyst\",\"Data Analyst\",\"Data Analyst\",\"Data Analyst\",\"Business Data Analyst\",\"Marketing Data Analyst\",\"Data Analyst\",\"Data Analyst\",\"Data Analyst\",\"Data Analyst\",\"Data Analyst - Recent Graduate\",\"Data Analyst\",\"Data Analyst\",\"Junior Data Analyst\",\"Data Analyst\",\"Junior Data Scientist\",\"Data Scientist\",\"Data Scientist\",\"Artificial Intelligence / Machine Learning Engineer Asc Mgr\",\"Machine Learning Research Scientist\",\"Healthcare Data Scientist\",\"Data Scientist\",\"Data Scientist\",\"Bioinformatics Data Scientist\",\"Data Scientist\",\"Data Scientist, Human Factors and User Research\",\"Data Scientist\",\"Deep Learning Engineer\",\"Data Scientist\",\"Data Scientist\",\"Data Scientist\",\"Data Scientist\",\"Data Scientist\",\"Data Scientist\",\"Deep Learning Software Engineer \",\"Jr. Data Scientist\",\"AI/Machine Learning Engineer\",\"REMOTE Manual Tester\",\"Junior Software Engineer (Test)\",\"Entry-Level QA Automation\",\"Associate Software Engineer In Test\",\"Software Engineer in Test (Remote Position)\",\"QA Engineer\",\"Software Testing Analyst 1\",\"QA Test Engineer\",\"Quality Assurance Engineer\",\"Quality Assurance (QA) Specialist - Software Testing\",\"Quality Assurance Engineer\",\"Software Engineer in Test (Remote)\",\"Manual QA Engineer - (Remote - US)\",\"Manual Tester-Offshore\",\"Manual Test Engineer (QA) REMOTE\",\"Manual Software Testing (QA) Associate (On-Site)\",\"Software Engineer - Testing\",\"Quality Assurance Analyst\",\"Quality Assurance Analyst\",\"Manual QA Tester\",\"Software Quality Assurance Tester\",\"Manual QA\",\"Quality Analyst\",\"Software Quality Assurance Engineer\"],\"type\":\"choropleth\"}],                        {\"geo\":{\"projection\":{\"type\":\"mercator\"}},\"title\":{\"text\":\"Job Number\"},\"template\":{\"data\":{\"histogram2dcontour\":[{\"type\":\"histogram2dcontour\",\"colorbar\":{\"outlinewidth\":0,\"ticks\":\"\"},\"colorscale\":[[0.0,\"#0d0887\"],[0.1111111111111111,\"#46039f\"],[0.2222222222222222,\"#7201a8\"],[0.3333333333333333,\"#9c179e\"],[0.4444444444444444,\"#bd3786\"],[0.5555555555555556,\"#d8576b\"],[0.6666666666666666,\"#ed7953\"],[0.7777777777777778,\"#fb9f3a\"],[0.8888888888888888,\"#fdca26\"],[1.0,\"#f0f921\"]]}],\"choropleth\":[{\"type\":\"choropleth\",\"colorbar\":{\"outlinewidth\":0,\"ticks\":\"\"}}],\"histogram2d\":[{\"type\":\"histogram2d\",\"colorbar\":{\"outlinewidth\":0,\"ticks\":\"\"},\"colorscale\":[[0.0,\"#0d0887\"],[0.1111111111111111,\"#46039f\"],[0.2222222222222222,\"#7201a8\"],[0.3333333333333333,\"#9c179e\"],[0.4444444444444444,\"#bd3786\"],[0.5555555555555556,\"#d8576b\"],[0.6666666666666666,\"#ed7953\"],[0.7777777777777778,\"#fb9f3a\"],[0.8888888888888888,\"#fdca26\"],[1.0,\"#f0f921\"]]}],\"heatmap\":[{\"type\":\"heatmap\",\"colorbar\":{\"outlinewidth\":0,\"ticks\":\"\"},\"colorscale\":[[0.0,\"#0d0887\"],[0.1111111111111111,\"#46039f\"],[0.2222222222222222,\"#7201a8\"],[0.3333333333333333,\"#9c179e\"],[0.4444444444444444,\"#bd3786\"],[0.5555555555555556,\"#d8576b\"],[0.6666666666666666,\"#ed7953\"],[0.7777777777777778,\"#fb9f3a\"],[0.8888888888888888,\"#fdca26\"],[1.0,\"#f0f921\"]]}],\"heatmapgl\":[{\"type\":\"heatmapgl\",\"colorbar\":{\"outlinewidth\":0,\"ticks\":\"\"},\"colorscale\":[[0.0,\"#0d0887\"],[0.1111111111111111,\"#46039f\"],[0.2222222222222222,\"#7201a8\"],[0.3333333333333333,\"#9c179e\"],[0.4444444444444444,\"#bd3786\"],[0.5555555555555556,\"#d8576b\"],[0.6666666666666666,\"#ed7953\"],[0.7777777777777778,\"#fb9f3a\"],[0.8888888888888888,\"#fdca26\"],[1.0,\"#f0f921\"]]}],\"contourcarpet\":[{\"type\":\"contourcarpet\",\"colorbar\":{\"outlinewidth\":0,\"ticks\":\"\"}}],\"contour\":[{\"type\":\"contour\",\"colorbar\":{\"outlinewidth\":0,\"ticks\":\"\"},\"colorscale\":[[0.0,\"#0d0887\"],[0.1111111111111111,\"#46039f\"],[0.2222222222222222,\"#7201a8\"],[0.3333333333333333,\"#9c179e\"],[0.4444444444444444,\"#bd3786\"],[0.5555555555555556,\"#d8576b\"],[0.6666666666666666,\"#ed7953\"],[0.7777777777777778,\"#fb9f3a\"],[0.8888888888888888,\"#fdca26\"],[1.0,\"#f0f921\"]]}],\"surface\":[{\"type\":\"surface\",\"colorbar\":{\"outlinewidth\":0,\"ticks\":\"\"},\"colorscale\":[[0.0,\"#0d0887\"],[0.1111111111111111,\"#46039f\"],[0.2222222222222222,\"#7201a8\"],[0.3333333333333333,\"#9c179e\"],[0.4444444444444444,\"#bd3786\"],[0.5555555555555556,\"#d8576b\"],[0.6666666666666666,\"#ed7953\"],[0.7777777777777778,\"#fb9f3a\"],[0.8888888888888888,\"#fdca26\"],[1.0,\"#f0f921\"]]}],\"mesh3d\":[{\"type\":\"mesh3d\",\"colorbar\":{\"outlinewidth\":0,\"ticks\":\"\"}}],\"scatter\":[{\"fillpattern\":{\"fillmode\":\"overlay\",\"size\":10,\"solidity\":0.2},\"type\":\"scatter\"}],\"parcoords\":[{\"type\":\"parcoords\",\"line\":{\"colorbar\":{\"outlinewidth\":0,\"ticks\":\"\"}}}],\"scatterpolargl\":[{\"type\":\"scatterpolargl\",\"marker\":{\"colorbar\":{\"outlinewidth\":0,\"ticks\":\"\"}}}],\"bar\":[{\"error_x\":{\"color\":\"#2a3f5f\"},\"error_y\":{\"color\":\"#2a3f5f\"},\"marker\":{\"line\":{\"color\":\"#E5ECF6\",\"width\":0.5},\"pattern\":{\"fillmode\":\"overlay\",\"size\":10,\"solidity\":0.2}},\"type\":\"bar\"}],\"scattergeo\":[{\"type\":\"scattergeo\",\"marker\":{\"colorbar\":{\"outlinewidth\":0,\"ticks\":\"\"}}}],\"scatterpolar\":[{\"type\":\"scatterpolar\",\"marker\":{\"colorbar\":{\"outlinewidth\":0,\"ticks\":\"\"}}}],\"histogram\":[{\"marker\":{\"pattern\":{\"fillmode\":\"overlay\",\"size\":10,\"solidity\":0.2}},\"type\":\"histogram\"}],\"scattergl\":[{\"type\":\"scattergl\",\"marker\":{\"colorbar\":{\"outlinewidth\":0,\"ticks\":\"\"}}}],\"scatter3d\":[{\"type\":\"scatter3d\",\"line\":{\"colorbar\":{\"outlinewidth\":0,\"ticks\":\"\"}},\"marker\":{\"colorbar\":{\"outlinewidth\":0,\"ticks\":\"\"}}}],\"scattermapbox\":[{\"type\":\"scattermapbox\",\"marker\":{\"colorbar\":{\"outlinewidth\":0,\"ticks\":\"\"}}}],\"scatterternary\":[{\"type\":\"scatterternary\",\"marker\":{\"colorbar\":{\"outlinewidth\":0,\"ticks\":\"\"}}}],\"scattercarpet\":[{\"type\":\"scattercarpet\",\"marker\":{\"colorbar\":{\"outlinewidth\":0,\"ticks\":\"\"}}}],\"carpet\":[{\"aaxis\":{\"endlinecolor\":\"#2a3f5f\",\"gridcolor\":\"white\",\"linecolor\":\"white\",\"minorgridcolor\":\"white\",\"startlinecolor\":\"#2a3f5f\"},\"baxis\":{\"endlinecolor\":\"#2a3f5f\",\"gridcolor\":\"white\",\"linecolor\":\"white\",\"minorgridcolor\":\"white\",\"startlinecolor\":\"#2a3f5f\"},\"type\":\"carpet\"}],\"table\":[{\"cells\":{\"fill\":{\"color\":\"#EBF0F8\"},\"line\":{\"color\":\"white\"}},\"header\":{\"fill\":{\"color\":\"#C8D4E3\"},\"line\":{\"color\":\"white\"}},\"type\":\"table\"}],\"barpolar\":[{\"marker\":{\"line\":{\"color\":\"#E5ECF6\",\"width\":0.5},\"pattern\":{\"fillmode\":\"overlay\",\"size\":10,\"solidity\":0.2}},\"type\":\"barpolar\"}],\"pie\":[{\"automargin\":true,\"type\":\"pie\"}]},\"layout\":{\"autotypenumbers\":\"strict\",\"colorway\":[\"#636efa\",\"#EF553B\",\"#00cc96\",\"#ab63fa\",\"#FFA15A\",\"#19d3f3\",\"#FF6692\",\"#B6E880\",\"#FF97FF\",\"#FECB52\"],\"font\":{\"color\":\"#2a3f5f\"},\"hovermode\":\"closest\",\"hoverlabel\":{\"align\":\"left\"},\"paper_bgcolor\":\"white\",\"plot_bgcolor\":\"#E5ECF6\",\"polar\":{\"bgcolor\":\"#E5ECF6\",\"angularaxis\":{\"gridcolor\":\"white\",\"linecolor\":\"white\",\"ticks\":\"\"},\"radialaxis\":{\"gridcolor\":\"white\",\"linecolor\":\"white\",\"ticks\":\"\"}},\"ternary\":{\"bgcolor\":\"#E5ECF6\",\"aaxis\":{\"gridcolor\":\"white\",\"linecolor\":\"white\",\"ticks\":\"\"},\"baxis\":{\"gridcolor\":\"white\",\"linecolor\":\"white\",\"ticks\":\"\"},\"caxis\":{\"gridcolor\":\"white\",\"linecolor\":\"white\",\"ticks\":\"\"}},\"coloraxis\":{\"colorbar\":{\"outlinewidth\":0,\"ticks\":\"\"}},\"colorscale\":{\"sequential\":[[0.0,\"#0d0887\"],[0.1111111111111111,\"#46039f\"],[0.2222222222222222,\"#7201a8\"],[0.3333333333333333,\"#9c179e\"],[0.4444444444444444,\"#bd3786\"],[0.5555555555555556,\"#d8576b\"],[0.6666666666666666,\"#ed7953\"],[0.7777777777777778,\"#fb9f3a\"],[0.8888888888888888,\"#fdca26\"],[1.0,\"#f0f921\"]],\"sequentialminus\":[[0.0,\"#0d0887\"],[0.1111111111111111,\"#46039f\"],[0.2222222222222222,\"#7201a8\"],[0.3333333333333333,\"#9c179e\"],[0.4444444444444444,\"#bd3786\"],[0.5555555555555556,\"#d8576b\"],[0.6666666666666666,\"#ed7953\"],[0.7777777777777778,\"#fb9f3a\"],[0.8888888888888888,\"#fdca26\"],[1.0,\"#f0f921\"]],\"diverging\":[[0,\"#8e0152\"],[0.1,\"#c51b7d\"],[0.2,\"#de77ae\"],[0.3,\"#f1b6da\"],[0.4,\"#fde0ef\"],[0.5,\"#f7f7f7\"],[0.6,\"#e6f5d0\"],[0.7,\"#b8e186\"],[0.8,\"#7fbc41\"],[0.9,\"#4d9221\"],[1,\"#276419\"]]},\"xaxis\":{\"gridcolor\":\"white\",\"linecolor\":\"white\",\"ticks\":\"\",\"title\":{\"standoff\":15},\"zerolinecolor\":\"white\",\"automargin\":true,\"zerolinewidth\":2},\"yaxis\":{\"gridcolor\":\"white\",\"linecolor\":\"white\",\"ticks\":\"\",\"title\":{\"standoff\":15},\"zerolinecolor\":\"white\",\"automargin\":true,\"zerolinewidth\":2},\"scene\":{\"xaxis\":{\"backgroundcolor\":\"#E5ECF6\",\"gridcolor\":\"white\",\"linecolor\":\"white\",\"showbackground\":true,\"ticks\":\"\",\"zerolinecolor\":\"white\",\"gridwidth\":2},\"yaxis\":{\"backgroundcolor\":\"#E5ECF6\",\"gridcolor\":\"white\",\"linecolor\":\"white\",\"showbackground\":true,\"ticks\":\"\",\"zerolinecolor\":\"white\",\"gridwidth\":2},\"zaxis\":{\"backgroundcolor\":\"#E5ECF6\",\"gridcolor\":\"white\",\"linecolor\":\"white\",\"showbackground\":true,\"ticks\":\"\",\"zerolinecolor\":\"white\",\"gridwidth\":2}},\"shapedefaults\":{\"line\":{\"color\":\"#2a3f5f\"}},\"annotationdefaults\":{\"arrowcolor\":\"#2a3f5f\",\"arrowhead\":0,\"arrowwidth\":1},\"geo\":{\"bgcolor\":\"white\",\"landcolor\":\"#E5ECF6\",\"subunitcolor\":\"white\",\"showland\":true,\"showlakes\":true,\"lakecolor\":\"white\"},\"title\":{\"x\":0.05},\"mapbox\":{\"style\":\"light\"}}}},                        {\"responsive\": true}                    ).then(function(){\n",
       "                            \n",
       "var gd = document.getElementById('03066285-4c57-4ca7-93a1-900561b804da');\n",
       "var x = new MutationObserver(function (mutations, observer) {{\n",
       "        var display = window.getComputedStyle(gd).display;\n",
       "        if (!display || display === 'none') {{\n",
       "            console.log([gd, 'removed!']);\n",
       "            Plotly.purge(gd);\n",
       "            observer.disconnect();\n",
       "        }}\n",
       "}});\n",
       "\n",
       "// Listen for the removal of the full notebook cells\n",
       "var notebookContainer = gd.closest('#notebook-container');\n",
       "if (notebookContainer) {{\n",
       "    x.observe(notebookContainer, {childList: true});\n",
       "}}\n",
       "\n",
       "// Listen for the clearing of the current output cell\n",
       "var outputEl = gd.closest('.output');\n",
       "if (outputEl) {{\n",
       "    x.observe(outputEl, {childList: true});\n",
       "}}\n",
       "\n",
       "                        })                };                });            </script>        </div>"
      ]
     },
     "metadata": {},
     "output_type": "display_data"
    }
   ],
   "source": [
    "choromap = go.Figure(data = [data],layout = layout)\n",
    "iplot(choromap,validate=False)"
   ]
  },
  {
   "cell_type": "code",
   "execution_count": 24,
   "id": "b6982abf",
   "metadata": {},
   "outputs": [
    {
     "data": {
      "text/plain": [
       "<AxesSubplot:xlabel='Seniority level', ylabel='count'>"
      ]
     },
     "execution_count": 24,
     "metadata": {},
     "output_type": "execute_result"
    },
    {
     "data": {
      "image/png": "[encoded data removed]",
      "text/plain": [
       "<Figure size 1440x720 with 1 Axes>"
      ]
     },
     "metadata": {
      "needs_background": "light"
     },
     "output_type": "display_data"
    }
   ],
   "source": [
    "plt.figure(figsize=(20,10))\n",
    "sns.countplot(x='Seniority level',data=df)"
   ]
  },
  {
   "cell_type": "code",
   "execution_count": 25,
   "id": "8f746a62",
   "metadata": {},
   "outputs": [
    {
     "data": {
      "text/plain": [
       "United States                      8\n",
       "Chicago, IL                        4\n",
       "Austin, TX                         4\n",
       "New Jersey, United States          2\n",
       "Atlanta, GA                        2\n",
       "New York, United States            2\n",
       "Mountain View, CA                  2\n",
       "Dallas, TX                         2\n",
       "California, United States          2\n",
       "Denver, CO                         2\n",
       "Charlotte, NC                      2\n",
       "Hoboken, NJ                        2\n",
       "Dubuque, IA                        1\n",
       "Iselin, NJ                         1\n",
       "Oxon Hill, MD                      1\n",
       "Moorestown, NJ                     1\n",
       "Indianapolis, IN                   1\n",
       "Pleasanton, CA                     1\n",
       "New York City Metropolitan Area    1\n",
       "Greater Philadelphia               1\n",
       "Long Beach, CA                     1\n",
       "Pittsburgh, PA                     1\n",
       "San Diego, CA                      1\n",
       "Alpharetta, GA                     1\n",
       "Manhattan, NY                      1\n",
       "King of Prussia, PA                1\n",
       "Phoenix, AZ                        1\n",
       "Salt Lake City, UT                 1\n",
       "Redmond, WA                        1\n",
       "Seattle, WA                        1\n",
       "Scottsdale, AZ                     1\n",
       "Deerfield Beach, FL                1\n",
       "Dallas-Fort Worth Metroplex        1\n",
       "Miami, FL                          1\n",
       "United, PA                         1\n",
       "Columbus, IN                       1\n",
       "Daly City, CA                      1\n",
       "Nashville, TN                      1\n",
       "Detroit, MI                        1\n",
       "Cambridge, MA                      1\n",
       "West Des Moines, IA                1\n",
       "Washington, United States          1\n",
       "New York, NY                       1\n",
       "Moorestown-Lenola, NJ              1\n",
       "Somerville, MA                     1\n",
       "Buffalo-Niagara Falls Area         1\n",
       "Willow Grove, PA                   1\n",
       "Portland, OR                       1\n",
       "Name: Job Location, dtype: int64"
      ]
     },
     "execution_count": 25,
     "metadata": {},
     "output_type": "execute_result"
    }
   ],
   "source": [
    "df[\"Job Location\"].value_counts()"
   ]
  },
  {
   "cell_type": "code",
   "execution_count": 26,
   "id": "52368052",
   "metadata": {},
   "outputs": [
    {
     "data": {
      "text/plain": [
       "<AxesSubplot:xlabel='Job Location', ylabel='count'>"
      ]
     },
     "execution_count": 26,
     "metadata": {},
     "output_type": "execute_result"
    },
    {
     "data": {
      "image/png": "[encoded data removed]",
      "text/plain": [
       "<Figure size 2160x720 with 1 Axes>"
      ]
     },
     "metadata": {
      "needs_background": "light"
     },
     "output_type": "display_data"
    }
   ],
   "source": [
    "plt.figure(figsize=(30,10))\n",
    "sns.countplot(x='Job Location',data=df)"
   ]
  },
  {
   "cell_type": "code",
   "execution_count": 27,
   "id": "ecbba9f7",
   "metadata": {},
   "outputs": [
    {
     "data": {
      "text/plain": [
       "<AxesSubplot:xlabel='Employment type', ylabel='Count'>"
      ]
     },
     "execution_count": 27,
     "metadata": {},
     "output_type": "execute_result"
    },
    {
     "data": {
      "image/png": "[encoded data removed]",
      "text/plain": [
       "<Figure size 432x288 with 1 Axes>"
      ]
     },
     "metadata": {
      "needs_background": "light"
     },
     "output_type": "display_data"
    }
   ],
   "source": [
    "sns.histplot(data=df,x=df[\"Employment type\"],palette=\"darkgrid\")"
   ]
  },
  {
   "cell_type": "code",
   "execution_count": 28,
   "id": "816f3ecd",
   "metadata": {},
   "outputs": [
    {
     "data": {
      "text/plain": [
       "<AxesSubplot:xlabel='Company Name', ylabel='count'>"
      ]
     },
     "execution_count": 28,
     "metadata": {},
     "output_type": "execute_result"
    },
    {
     "data": {
      "image/png": "[encoded data removed]",
      "text/plain": [
       "<Figure size 2160x720 with 1 Axes>"
      ]
     },
     "metadata": {
      "needs_background": "light"
     },
     "output_type": "display_data"
    }
   ],
   "source": [
    "plt.figure(figsize=(30,10))\n",
    "sns.countplot(x='Company Name',data=df)"
   ]
  },
  {
   "cell_type": "code",
   "execution_count": 33,
   "id": "ab89af31",
   "metadata": {},
   "outputs": [],
   "source": [
    "linkedin = Linkedin()"
   ]
  },
  {
   "cell_type": "code",
   "execution_count": 34,
   "id": "96bc4b56",
   "metadata": {},
   "outputs": [
    {
     "name": "stdout",
     "output_type": "stream",
     "text": [
      "Enter the Number of jobs you want to search for :5\n",
      "Enter the 1 job Research Analyst\n",
      "\n",
      "Enter the 2 job Mechanical Engineer\n",
      "\n",
      "Enter the 3 job Software Developer\n",
      "\n",
      "Enter the 4 job Data Analyst\n",
      "\n",
      "Enter the 5 job Doctor\n",
      "\n",
      "https://www.linkedin.com/jobs/view/mechanical-design-engineer-at-hydra-electric-company-3283640717?refId=xgsIzrqKka1mpshKW1Uxkg%3D%3D&trackingId=gRujWA4EEQ%2Fb8qtoO4Np3Q%3D%3D&position=17&pageNum=0&trk=public_jobs_jserp-result_search-card\n",
      "https://www.linkedin.com/jobs/view/software-engineer-early-career-at-lockheed-martin-3302437358?refId=jlAKVkQnbcITLwa5N00Szg%3D%3D&trackingId=Lx9A1T%2FQfRiMceFb4WhM5A%3D%3D&position=4&pageNum=0&trk=public_jobs_jserp-result_search-card\n",
      "https://www.linkedin.com/jobs/view/internship-software-engineering-at-snackpass-3303557571?refId=jlAKVkQnbcITLwa5N00Szg%3D%3D&trackingId=lJ%2B6yfesQo42ho7y4wfgvg%3D%3D&position=8&pageNum=0&trk=public_jobs_jserp-result_search-card\n",
      "https://www.linkedin.com/jobs/view/junior-software-engineer-at-act-on-software-inc-3298496914?refId=jlAKVkQnbcITLwa5N00Szg%3D%3D&trackingId=X7sMooEsEI6vwETlxhickA%3D%3D&position=20&pageNum=0&trk=public_jobs_jserp-result_search-card\n",
      "https://www.linkedin.com/jobs/view/data-analyst-at-launch-gift-cards-3303581467?refId=N21ccnocD12fDTJf7Ci98g%3D%3D&trackingId=253wBgZsfo9%2BbATz0yp42A%3D%3D&position=20&pageNum=0&trk=public_jobs_jserp-result_search-card\n",
      "https://www.linkedin.com/jobs/view/data-analyst-at-geopath-3300055794?refId=N21ccnocD12fDTJf7Ci98g%3D%3D&trackingId=EKIo8mPpIlfYHtZfEzr8Lg%3D%3D&position=21&pageNum=0&trk=public_jobs_jserp-result_search-card\n",
      "https://www.linkedin.com/jobs/view/coordinator-family-nurse-practitioner-program-at-maryville-university-of-saint-louis-3303588743?refId=i%2F6WhB2bNDnGvBM8ArZycw%3D%3D&trackingId=V9RQedtRRjX7D%2BHHQmkqaw%3D%3D&position=1&pageNum=0&trk=public_jobs_jserp-result_search-card\n",
      "https://www.linkedin.com/jobs/view/nurse-intern-at-the-university-of-new-mexico-health-sciences-center-3303565469?refId=i%2F6WhB2bNDnGvBM8ArZycw%3D%3D&trackingId=6leHn4860akTk0R9bK8F0w%3D%3D&position=2&pageNum=0&trk=public_jobs_jserp-result_search-card\n",
      "https://www.linkedin.com/jobs/view/nurse-intern-at-the-university-of-new-mexico-health-sciences-center-3303569253?refId=i%2F6WhB2bNDnGvBM8ArZycw%3D%3D&trackingId=qo1WObD7HBs%2F66775mI5dw%3D%3D&position=3&pageNum=0&trk=public_jobs_jserp-result_search-card\n",
      "https://www.linkedin.com/jobs/view/nurse-intern-at-the-university-of-new-mexico-health-sciences-center-3303569254?refId=i%2F6WhB2bNDnGvBM8ArZycw%3D%3D&trackingId=llmaikk9xtedvxZCrGXPFA%3D%3D&position=4&pageNum=0&trk=public_jobs_jserp-result_search-card\n",
      "https://www.linkedin.com/jobs/view/nurse-aide-in-training-at-diversicare-healthcare-services-inc-3300062338?refId=i%2F6WhB2bNDnGvBM8ArZycw%3D%3D&trackingId=Y9DDc1qy%2BkGsxYDp6pqBgQ%3D%3D&position=5&pageNum=0&trk=public_jobs_jserp-result_search-card\n",
      "https://www.linkedin.com/jobs/view/clinical-nurse-at-pivotal-placement-services-inc-3303568358?refId=i%2F6WhB2bNDnGvBM8ArZycw%3D%3D&trackingId=yfVQyzPi6N4Pjp2QYbIwNQ%3D%3D&position=6&pageNum=0&trk=public_jobs_jserp-result_search-card\n",
      "https://www.linkedin.com/jobs/view/clinical-nurse-genesis-at-tampa-general-hospital-3303578963?refId=i%2F6WhB2bNDnGvBM8ArZycw%3D%3D&trackingId=p24l4HO21Eg5YIIO%2Bg3PgA%3D%3D&position=8&pageNum=0&trk=public_jobs_jserp-result_search-card\n",
      "https://www.linkedin.com/jobs/view/registered-nurse-rn-supervisor-%242500-sign-on-bonus-new-graduates-welcomed%21-at-paramount-care-centers-3303560912?refId=i%2F6WhB2bNDnGvBM8ArZycw%3D%3D&trackingId=83fTUglCKCkte4vFEQ3tHA%3D%3D&position=9&pageNum=0&trk=public_jobs_jserp-result_search-card\n",
      "https://www.linkedin.com/jobs/view/baylor-nurse-at-adviniacare-at-southpointe-3303561860?refId=i%2F6WhB2bNDnGvBM8ArZycw%3D%3D&trackingId=fPEB39XqZApd5AZQ5TZWvg%3D%3D&position=12&pageNum=0&trk=public_jobs_jserp-result_search-card\n",
      "https://www.linkedin.com/jobs/view/nurse-unit-manager-at-preferred-care-health-centers-3303557949?refId=i%2F6WhB2bNDnGvBM8ArZycw%3D%3D&trackingId=S3AZCELjom%2FVOH5AB7pywg%3D%3D&position=13&pageNum=0&trk=public_jobs_jserp-result_search-card\n",
      "https://www.linkedin.com/jobs/view/nurse-practitioner-part-time-murray-medical-associates-at-murray-calloway-county-hospital-3303586222?refId=i%2F6WhB2bNDnGvBM8ArZycw%3D%3D&trackingId=amWum582V5HTKSk4usq%2Fpg%3D%3D&position=14&pageNum=0&trk=public_jobs_jserp-result_search-card\n",
      "https://www.linkedin.com/jobs/view/nurse-manager-at-encompass-health-3303576187?refId=i%2F6WhB2bNDnGvBM8ArZycw%3D%3D&trackingId=y06M7L1kvPSRfgE6UU1j0w%3D%3D&position=15&pageNum=0&trk=public_jobs_jserp-result_search-card\n",
      "https://www.linkedin.com/jobs/view/home-health-nurse-at-pivotal-placement-services-inc-3303564703?refId=i%2F6WhB2bNDnGvBM8ArZycw%3D%3D&trackingId=jwiBs7v%2FixpF9uQ0YY7xPw%3D%3D&position=16&pageNum=0&trk=public_jobs_jserp-result_search-card\n",
      "https://www.linkedin.com/jobs/view/registered-nurse-nights-at-reunion-rehabilitation-hospitals-3300064565?refId=i%2F6WhB2bNDnGvBM8ArZycw%3D%3D&trackingId=M2rBno%2BGFZyLnc9JqJ%2FDsA%3D%3D&position=17&pageNum=0&trk=public_jobs_jserp-result_search-card\n",
      "https://www.linkedin.com/jobs/view/clinical-nurse-navigator-nurse-practitioner-at-restorixhealth-3296068920?refId=i%2F6WhB2bNDnGvBM8ArZycw%3D%3D&trackingId=7ytLM3WfpfKUvIyMYtILiA%3D%3D&position=18&pageNum=0&trk=public_jobs_jserp-result_search-card\n",
      "https://www.linkedin.com/jobs/view/na-nurse-assistant-cna-certified-nurse-assistant-sponsorship-program-at-luxor-healthcare-3303566097?refId=i%2F6WhB2bNDnGvBM8ArZycw%3D%3D&trackingId=ZPwZ%2FWjel3v%2BUSon%2BAej7A%3D%3D&position=19&pageNum=0&trk=public_jobs_jserp-result_search-card\n",
      "https://www.linkedin.com/jobs/view/rn-registered-nurse-%2410-000-sign-on-bonus-7p-7a-at-laurel-health-care-company-3303563243?refId=i%2F6WhB2bNDnGvBM8ArZycw%3D%3D&trackingId=eOoHtgBCVisA0HnuosXPdA%3D%3D&position=20&pageNum=0&trk=public_jobs_jserp-result_search-card\n",
      "https://www.linkedin.com/jobs/view/non-certified-nurse-s-aide-at-aristacare-health-services-3303566067?refId=i%2F6WhB2bNDnGvBM8ArZycw%3D%3D&trackingId=bxADlfwkOE%2BiFDqqWwmFjw%3D%3D&position=21&pageNum=0&trk=public_jobs_jserp-result_search-card\n",
      "https://www.linkedin.com/jobs/view/nurse-extern-at-the-university-of-new-mexico-health-sciences-center-3303565470?refId=i%2F6WhB2bNDnGvBM8ArZycw%3D%3D&trackingId=SCGAb6xXSt7rBAtX7xf9IA%3D%3D&position=22&pageNum=0&trk=public_jobs_jserp-result_search-card\n",
      "https://www.linkedin.com/jobs/view/registered-nurse-falls-psychotropics-2500-sign-on-bonus-at-legacy-healthcare-llc-3303557955?refId=i%2F6WhB2bNDnGvBM8ArZycw%3D%3D&trackingId=leqYONNmrZmxHBtbdffgHQ%3D%3D&position=23&pageNum=0&trk=public_jobs_jserp-result_search-card\n"
     ]
    }
   ],
   "source": [
    "jobsDf = linkedin.getJobs()"
   ]
  },
  {
   "cell_type": "code",
   "execution_count": 35,
   "id": "5eae3c52",
   "metadata": {},
   "outputs": [
    {
     "data": {
      "text/html": [
       "<div>\n",
       "<style scoped>\n",
       "    .dataframe tbody tr th:only-of-type {\n",
       "        vertical-align: middle;\n",
       "    }\n",
       "\n",
       "    .dataframe tbody tr th {\n",
       "        vertical-align: top;\n",
       "    }\n",
       "\n",
       "    .dataframe thead th {\n",
       "        text-align: right;\n",
       "    }\n",
       "</style>\n",
       "<table border=\"1\" class=\"dataframe\">\n",
       "  <thead>\n",
       "    <tr style=\"text-align: right;\">\n",
       "      <th></th>\n",
       "      <th>Job Title</th>\n",
       "      <th>Company Name</th>\n",
       "      <th>Job Location</th>\n",
       "      <th>Job Description</th>\n",
       "      <th>Release Date</th>\n",
       "      <th>Seniority level</th>\n",
       "      <th>Employment type</th>\n",
       "      <th>Job function</th>\n",
       "      <th>Industries</th>\n",
       "    </tr>\n",
       "  </thead>\n",
       "  <tbody>\n",
       "    <tr>\n",
       "      <th>0</th>\n",
       "      <td>Research Analyst</td>\n",
       "      <td>Korn Ferry</td>\n",
       "      <td>New York, NY</td>\n",
       "      <td>KEY RESPONSIBILITIES: The Research Associate i...</td>\n",
       "      <td>1 week ago</td>\n",
       "      <td>Entry level</td>\n",
       "      <td>Full-time</td>\n",
       "      <td>Research, Analyst, and Strategy/Planning</td>\n",
       "      <td>Business Consulting and Services</td>\n",
       "    </tr>\n",
       "    <tr>\n",
       "      <th>1</th>\n",
       "      <td>Research Analyst</td>\n",
       "      <td>Echelon Insights</td>\n",
       "      <td>Alexandria, VA</td>\n",
       "      <td>Echelon Insights is hiring a Research Analyst ...</td>\n",
       "      <td>4 weeks ago</td>\n",
       "      <td>Entry level</td>\n",
       "      <td>Full-time</td>\n",
       "      <td>Research, Analyst, and Information Technology</td>\n",
       "      <td>Market Research</td>\n",
       "    </tr>\n",
       "    <tr>\n",
       "      <th>2</th>\n",
       "      <td>Research Analyst</td>\n",
       "      <td>Blue Rose Consulting Group, Inc.</td>\n",
       "      <td>Washington, DC</td>\n",
       "      <td>Blue Rose is seeking a Research Analyst to sup...</td>\n",
       "      <td>1 week ago</td>\n",
       "      <td>Mid-Senior level</td>\n",
       "      <td>Full-time</td>\n",
       "      <td>Research, Analyst, and Information Technology</td>\n",
       "      <td>Business Consulting and Services</td>\n",
       "    </tr>\n",
       "    <tr>\n",
       "      <th>3</th>\n",
       "      <td>Research Analyst I</td>\n",
       "      <td>Harvard University</td>\n",
       "      <td>Cambridge, MA</td>\n",
       "      <td>Job SummaryThe Research Analyst will be part o...</td>\n",
       "      <td>1 month ago</td>\n",
       "      <td>Associate</td>\n",
       "      <td>Full-time</td>\n",
       "      <td>Research</td>\n",
       "      <td>Higher Education</td>\n",
       "    </tr>\n",
       "    <tr>\n",
       "      <th>4</th>\n",
       "      <td>Research Analyst - US Consumer Discretionary</td>\n",
       "      <td>Lazard Asset Management</td>\n",
       "      <td>New York, NY</td>\n",
       "      <td>Lazard Asset Management operates in 41 cities ...</td>\n",
       "      <td>1 week ago</td>\n",
       "      <td>Mid-Senior level</td>\n",
       "      <td>Full-time</td>\n",
       "      <td>Analyst, Finance, and Research</td>\n",
       "      <td>Investment Management</td>\n",
       "    </tr>\n",
       "    <tr>\n",
       "      <th>...</th>\n",
       "      <td>...</td>\n",
       "      <td>...</td>\n",
       "      <td>...</td>\n",
       "      <td>...</td>\n",
       "      <td>...</td>\n",
       "      <td>...</td>\n",
       "      <td>...</td>\n",
       "      <td>...</td>\n",
       "      <td>...</td>\n",
       "    </tr>\n",
       "    <tr>\n",
       "      <th>92</th>\n",
       "      <td>Nurse Navigator</td>\n",
       "      <td>American Lung Association</td>\n",
       "      <td>Illinois, United States</td>\n",
       "      <td>Statewide, ILJob Number: IL #2223-044Type: Ful...</td>\n",
       "      <td>2 days ago</td>\n",
       "      <td>Associate</td>\n",
       "      <td>Full-time</td>\n",
       "      <td>Health Care Provider</td>\n",
       "      <td>Non-profit Organizations</td>\n",
       "    </tr>\n",
       "    <tr>\n",
       "      <th>93</th>\n",
       "      <td>Director, Doctor of Healthcare Administration ...</td>\n",
       "      <td>Lake Erie College of Osteopathic Medicine</td>\n",
       "      <td>Bradenton, FL</td>\n",
       "      <td>OverviewDate Posted:10/3/2022Location:Bradento...</td>\n",
       "      <td>3 weeks ago</td>\n",
       "      <td>Associate</td>\n",
       "      <td>Part-time</td>\n",
       "      <td>Health Care Provider</td>\n",
       "      <td>Higher Education</td>\n",
       "    </tr>\n",
       "    <tr>\n",
       "      <th>94</th>\n",
       "      <td>PS Nurse Practitioner</td>\n",
       "      <td>University of Utah</td>\n",
       "      <td>Salt Lake City, UT</td>\n",
       "      <td>DetailsOpen Date 10/03/2022Requisition Number ...</td>\n",
       "      <td>1 day ago</td>\n",
       "      <td>Associate</td>\n",
       "      <td>Full-time</td>\n",
       "      <td>Health Care Provider</td>\n",
       "      <td>Higher Education</td>\n",
       "    </tr>\n",
       "    <tr>\n",
       "      <th>95</th>\n",
       "      <td>Nurse Appeals</td>\n",
       "      <td>Elevance Health</td>\n",
       "      <td>United States</td>\n",
       "      <td>Job Family: Medical and ClinicalType: Full tim...</td>\n",
       "      <td>1 week ago</td>\n",
       "      <td>Associate</td>\n",
       "      <td>Full-time</td>\n",
       "      <td>Health Care Provider</td>\n",
       "      <td>Hospitals and Health Care</td>\n",
       "    </tr>\n",
       "    <tr>\n",
       "      <th>96</th>\n",
       "      <td>Nurse Appeals</td>\n",
       "      <td>Elevance Health</td>\n",
       "      <td>United States</td>\n",
       "      <td>Job Family: Medical and ClinicalType: Full tim...</td>\n",
       "      <td>1 week ago</td>\n",
       "      <td>Associate</td>\n",
       "      <td>Full-time</td>\n",
       "      <td>Health Care Provider</td>\n",
       "      <td>Hospitals and Health Care</td>\n",
       "    </tr>\n",
       "  </tbody>\n",
       "</table>\n",
       "<p>97 rows × 9 columns</p>\n",
       "</div>"
      ],
      "text/plain": [
       "                                            Job Title  \\\n",
       "0                                    Research Analyst   \n",
       "1                                    Research Analyst   \n",
       "2                                    Research Analyst   \n",
       "3                                  Research Analyst I   \n",
       "4       Research Analyst - US Consumer Discretionary    \n",
       "..                                                ...   \n",
       "92                                    Nurse Navigator   \n",
       "93  Director, Doctor of Healthcare Administration ...   \n",
       "94                              PS Nurse Practitioner   \n",
       "95                                      Nurse Appeals   \n",
       "96                                      Nurse Appeals   \n",
       "\n",
       "                                 Company Name             Job Location  \\\n",
       "0                                  Korn Ferry             New York, NY   \n",
       "1                            Echelon Insights           Alexandria, VA   \n",
       "2            Blue Rose Consulting Group, Inc.           Washington, DC   \n",
       "3                          Harvard University            Cambridge, MA   \n",
       "4                     Lazard Asset Management             New York, NY   \n",
       "..                                        ...                      ...   \n",
       "92                  American Lung Association  Illinois, United States   \n",
       "93  Lake Erie College of Osteopathic Medicine            Bradenton, FL   \n",
       "94                         University of Utah       Salt Lake City, UT   \n",
       "95                            Elevance Health            United States   \n",
       "96                            Elevance Health            United States   \n",
       "\n",
       "                                      Job Description Release Date  \\\n",
       "0   KEY RESPONSIBILITIES: The Research Associate i...   1 week ago   \n",
       "1   Echelon Insights is hiring a Research Analyst ...  4 weeks ago   \n",
       "2   Blue Rose is seeking a Research Analyst to sup...   1 week ago   \n",
       "3   Job SummaryThe Research Analyst will be part o...  1 month ago   \n",
       "4   Lazard Asset Management operates in 41 cities ...   1 week ago   \n",
       "..                                                ...          ...   \n",
       "92  Statewide, ILJob Number: IL #2223-044Type: Ful...   2 days ago   \n",
       "93  OverviewDate Posted:10/3/2022Location:Bradento...  3 weeks ago   \n",
       "94  DetailsOpen Date 10/03/2022Requisition Number ...    1 day ago   \n",
       "95  Job Family: Medical and ClinicalType: Full tim...   1 week ago   \n",
       "96  Job Family: Medical and ClinicalType: Full tim...   1 week ago   \n",
       "\n",
       "     Seniority level Employment type  \\\n",
       "0        Entry level       Full-time   \n",
       "1        Entry level       Full-time   \n",
       "2   Mid-Senior level       Full-time   \n",
       "3          Associate       Full-time   \n",
       "4   Mid-Senior level       Full-time   \n",
       "..               ...             ...   \n",
       "92         Associate       Full-time   \n",
       "93         Associate       Part-time   \n",
       "94         Associate       Full-time   \n",
       "95         Associate       Full-time   \n",
       "96         Associate       Full-time   \n",
       "\n",
       "                                     Job function  \\\n",
       "0        Research, Analyst, and Strategy/Planning   \n",
       "1   Research, Analyst, and Information Technology   \n",
       "2   Research, Analyst, and Information Technology   \n",
       "3                                        Research   \n",
       "4                  Analyst, Finance, and Research   \n",
       "..                                            ...   \n",
       "92                           Health Care Provider   \n",
       "93                           Health Care Provider   \n",
       "94                           Health Care Provider   \n",
       "95                           Health Care Provider   \n",
       "96                           Health Care Provider   \n",
       "\n",
       "                          Industries  \n",
       "0   Business Consulting and Services  \n",
       "1                    Market Research  \n",
       "2   Business Consulting and Services  \n",
       "3                   Higher Education  \n",
       "4              Investment Management  \n",
       "..                               ...  \n",
       "92          Non-profit Organizations  \n",
       "93                  Higher Education  \n",
       "94                  Higher Education  \n",
       "95         Hospitals and Health Care  \n",
       "96         Hospitals and Health Care  \n",
       "\n",
       "[97 rows x 9 columns]"
      ]
     },
     "execution_count": 35,
     "metadata": {},
     "output_type": "execute_result"
    }
   ],
   "source": [
    "jobsDf"
   ]
  },
  {
   "cell_type": "code",
   "execution_count": 36,
   "id": "3bc4b5c6",
   "metadata": {},
   "outputs": [
    {
     "data": {
      "text/plain": [
       "'KEY RESPONSIBILITIES: The Research Associate is an important part of his/her respective Sector and/or Center of Excellence. The primary focus of this role is supporting the practice in preparing for business development meetings and delivering on executive search projects. Typical job focus includes: • Preparing company overviews for account teams • Researching companies and developing target lists • Identifying potential candidates from a variety of online and proprietary tools • Calling companies to determine organization structure A successful Research Associate career path typically includes opportunities for promotion to Associate and/or Senior Associate, which has extensive client contact and business development expectations. Career paths for successful candidates may also include a more senior Research position (e.g. “Knowledge Manager”) for a sector or COE cluster. Additional responsibilities for a Research Associate may include: Searcher™ Data Quality Management and Entry Consistently inputting and updating highly confidential candidate records in Korn Ferry’s proprietary CRM. Business Development Support Actively participating in designing the search and business development strategy with the Partner and Consultant; pro-active involvement as a valued team contributor throughout the search process from pitch to candidate development. Candidate ID Providing research in support of candidate identification and business development activities of the practice. Develops appropriate candidate “target” lists for Senior Associates using the phone, print materials and a wide range of online information resources. Internal/External Call Participation Attending and/or listening in on kick-off meetings, suggesting possible targets, and attending client briefings/meetings when possible; Attending or listening in on all applicable sector and practice meetings/calls. Focus on Client and Candidate Service: Developing a full understanding of the search and the research needs of internal clients; Developing confidence and trust internal and external clients. Market Intelligence: Teaming up on “proprietary” market intelligence projects in a research associate’s sector and/or COE industry concentration; Proactively identifying and tracking organizational, industry, and/or functional trends and reporting findings. PROFESSIONAL EXPERIENCE/QUALIFICATIONS: Intelligence and Intellectual Curiosity Must be genuinely interested in learning about people, business and industry characteristics/needs. Need the ability to quickly learn industry fundamentals and understand criteria for success. Importantly, they must have a high \"EQ\" (Emotional [Maturity] Quotient). Need sufficient conceptual skills to understand broad industry concepts and analytical skills to “drill down” to determine depth of experience. High Energy Level Must work on multiple assignments simultaneously, adhering to best practice guidelines. Must be willing to work hours required to complete the assignment. “Street Smarts” The ability to quickly discern the criteria most important for candidate success in a particular search and think in a non-linear fashion so as to work smarter and creatively; Listen to and process candidate information in such a way as to determine likely fit with the opportunity and quickly “close” the conversation to specific next steps or additional source or candidate identification. Contribution to Resources Adds to and updates Searcher. Conducts a thorough evaluation of the outcome of research provided on a search and ensures that results are recorded in Searcher. Actively contributes to the practice knowledge system as well as to practice and research meetings. Entrepreneurial Spirit Works with minimal direction; is a self-starter but at the same time knows when to, and is comfortable with asking for direction when necessary. Provides meaningful feedback and when appropriate offers value added suggestions for approaching the search in a different way. Provides research support in business development efforts. Efficiency and Need for Closure Work with multiple managers and prioritize task effectively. The ability to understand that Korn Ferry is a business and needs to complete searches quickly and at the highest quality standards, while making a profit consistent with the value delivered. Persistence and thoroughness Ability to work in a fast-paced and unstructured work environment, able to assertively navigate organizational structures, but with sensitivity and finesse. Associates must reliably complete necessary paperwork and follow procedures effectively, especially those involving protecting key assets, such as proprietary databases. Outstanding Communication Skills Although outstanding telephone skills are especially essential, Associates need excellent overall communications skill, as well. They must demonstrate excellent verbal skills on the telephone, written skills in drafting specifications and references as well as other required documents, and presentation skills in client situations. Discretion Must project an understanding and appreciation for the strict confidentiality of client and candidate information and protect it as appropriate. Poise and Professional Presence. Although in-person client contact is not the primary focus of this position, Research Associates will interface frequently with very senior stakeholders, and must project a professional image. Positive Cultural Influence Although the Korn Ferry culture is independent and entrepreneurial, a team orientation is becoming increasingly important. At a minimum, the Associate must interface well with other office associates, but ideally, will become a valued and important part of building a positive culture, raising other associates\\' job satisfaction levels and increasing office productivity and retention rates. LEADERSHIP CHARACTERISTICS: Getting Organized Is well-organized, resourceful, and focused; effective and efficient at marshalling multiple resources to get things done; lays out tasks in sufficient detail to mark the trail; gets things done with less and in less time; can work on multiple tasks at once without losing track of any; foresees obstacles and plans around them. Focusing on Action and Outcomes Attacks everything with drive and energy with an eye on the bottom line; unafraid to initiate action before all the facts are known; drives to finish everything he/she starts. Communicating Effectively Writes and presents effectively; adjusts to fit the audience and the message; gets a message across with precision, clarity, brevity, and a relentless desire to re-read / proofread. Managing Up Is ambitious and is comfortable marketing himself/herself to higher management; knows how to relate effectively to top management, and can advocate for him/herself Relating Skills Warm, friendly, and interpersonally agile; easy to approach and talk to; relates well to all kinds of people; makes a pleasant first impression and builds solid relationships. Managing Diverse Relationships Relates well to a wide variety of diverse styles, types, and classes; open to differences; effective up, down, sideways, inside, and outside; builds diverse networks; quick to find common ground; treats differences fairly and equitably; treats everyone as a preferred customer. Demonstrating Personal Flexibility Open to lifelong, continuous personal improvement; aware of self and impact on others; responsive to feedback; is very flexible; can act in ways that seem contradictory and is adaptable to demand characteristics of different situations. EDUCATION: An undergraduate degree from a well-regarded institution is required. Familiarity with Microsoft Office Products and databases (such as Bloomberg, Factiva, LexisNexis)'"
      ]
     },
     "execution_count": 36,
     "metadata": {},
     "output_type": "execute_result"
    }
   ],
   "source": [
    "jobsDf[\"Job Description\"][0]"
   ]
  },
  {
   "cell_type": "code",
   "execution_count": 37,
   "id": "5ccebdd4",
   "metadata": {},
   "outputs": [
    {
     "data": {
      "text/plain": [
       "\"Job Family: Medical and ClinicalType: Full timeDate Posted:Sep 13, 2022Req #: JR22111Location:National +50 Miles away from nearest PulsePoint, National +50 Miles away from nearest PulsePointDescriptionJob Description: ExternalLocation: RemoteSchedule: 7:30-5:30pm EST or Central time zonePrimary Duties May Include, But Are Not Limited ToThe Nurse Appeals is responsible for investigating and processing quality of care issues, clinical grievances, and critical incidents from members, providers, and internal staff.Conducts investigations and reviews of member grievances and potential quality of care issuesReviews medical records for potential quality of care issuesExtrapolates and summarizes medical information for medical director.Ensures that Quality of care reviews and clinical grievances are resolved timely to meet regulatory timeframes.Documents and logs grievance information and quality of care investigations on relevant tracking systems and mainframe systems.Generates written correspondence to providers, members, and regulatory entities.Utilize leadership skills and serves as a subject matter expert for critical incidents/grievances/quality of care issues and is a resource for clinical and non-clinical team members in expediting the resolution of outstanding issues.Applicable to Colorado Applicants OnlyAnnual Salary Range*: 62,000- 77,500Actual compensation may vary from posting based on geographic location, work experience, education and/or skill level.\\n\\n* The hourly or salary range is the range Elevance Health in good faith believes is the range of possible compensation for this role at the time of this posting.\\n\\nThe Company may ultimately pay more or less than the posted range.\\n\\nThis range is only applicable for jobs to be performed in Colorado.\\n\\nThis range may be modified in the future.\\n\\nNo amount is considered to be wages or compensation until such amount is earned, vested, and determinable under the terms and conditions of the applicable policies and plans.\\n\\nThe amount and availability of any bonus, commission, benefits, or any other form of compensation and benefits that are allocable to a particular employee remains in the Company's sole discretion unless and until paid and may be modified at the Company’s sole discretion, consistent with the law.Qualifications - External2 years of experience in a managed care healthcare setting; or any combination of education and experience, which would provide an equivalent background.Current active unrestricted RN license to practice as a health professional within the scope of licensure in applicable state(s) or territory of the United States required.Preferred RequirementsAS or BS in Nursing preferred.For URAC accredited areas the following applies: Requires strong oral, written and interpersonal communication skills, problem-solving skills, facilitation skills, and analytical skills.Please be advised that Elevance Health only accepts resumes from agencies that have a signed agreement with Elevance Health.\\n\\nAccordingly, Elevance Health is not obligated to pay referral fees to any agency that is not a party to an agreement with Elevance Health.\\n\\nThus, any unsolicited resumes, including those submitted to hiring managers, are deemed to be the property of Elevance Health.Be part of an Extraordinary TeamElevance Health is a health company dedicated to improving lives and communities – and making healthcare simpler.\\n\\nPreviously known as Anthem, Inc., we have evolved into a company focused on whole health and updated our name to better reflect the direction the company is heading.We are looking for leaders at all levels of the organization who are passionate about making an impact on our members and the communities we serve.\\n\\nYou will thrive in a complex and collaborative environment where you take action and ownership to solve problems and lead change.\\n\\nDo you want to be part of a larger purpose and an evolving, high-performance culture that empowers you to make an impact?We offer a range of market-competitive total rewards that include merit increases, paid holidays, Paid Time Off, and incentive bonus programs (unless covered by a collective bargaining agreement), medical, dental, vision, short and long term disability benefits, 401(k) +match, stock purchase plan, life insurance, wellness programs and financial education resources, to name a few.The health of our associates and communities is a top priority for Elevance Health.\\n\\nWe require all new candidates to become vaccinated against COVID-19.\\n\\nIf you are not vaccinated, your offer will be rescinded unless you provide – and Elevance Health approves – a valid religious or medical explanation as to why you are not able to get vaccinated that Elevance Health is able to reasonably accommodate.\\n\\nElevance Health will also follow all relevant federal, state and local laws.Elevance Health has been named as a Fortune Great Place To Work in 2021, is ranked as one of the 2021 World’s Most Admired Companies among health insurers by Fortune magazine, and a Top 20 Fortune 500 Companies on Diversity and Inclusion.\\n\\nTo learn more about our company and apply, please visit us at careers.ElevanceHealthinc.com.\\n\\nElevance Health is an Equal Employment Opportunity employer and all qualified applicants will receive consideration for employment without regard to age, citizenship status, color, creed, disability, ethnicity, genetic information, gender (including gender identity and gender expression), marital status, national origin, race, religion, sex, sexual orientation, veteran status or any other status or condition protected by applicable federal, state, or local laws.\\n\\nApplicants who require accommodation to participate in the job application process may contact ability@icareerhelp.com for assistance.EEO is the LawEqual Opportunity Employer / Disability / VeteranPlease use the links below to review statements of protection from discrimination under Federal law for job applicants and employees.EEO Policy StatementEEO is the Law PosterEEO Poster Supplement-English VersionPay TransparencyPrivacy Notice for California ResidentsElevance Health, Inc. is an E-verify EmployerNeed Assistance?Email us (elevancehealth@icareerhelp.com) or call 1-877-204-7664\""
      ]
     },
     "execution_count": 37,
     "metadata": {},
     "output_type": "execute_result"
    }
   ],
   "source": [
    "linkedin.sortSentences(jobsDf[\"Job Description\"])"
   ]
  },
  {
   "cell_type": "code",
   "execution_count": null,
   "id": "499fa20e",
   "metadata": {},
   "outputs": [],
   "source": []
  },
  {
   "cell_type": "markdown",
   "id": "181db2ca",
   "metadata": {},
   "source": [
    "### GUI"
   ]
  },
  {
   "cell_type": "code",
   "execution_count": null,
   "id": "5c39263e",
   "metadata": {},
   "outputs": [],
   "source": [
    "#from tkinter import *"
   ]
  },
  {
   "cell_type": "code",
   "execution_count": null,
   "id": "714a85e1",
   "metadata": {},
   "outputs": [],
   "source": [
    "#top = Tk()\n",
    "#top.title(\"Linkedin Webscraping\")tware\n",
    "#top.minsize(300,300)"
   ]
  },
  {
   "cell_type": "code",
   "execution_count": null,
   "id": "15811e08",
   "metadata": {},
   "outputs": [],
   "source": [
    "#label1 = Label(text=\"Enter the number of jobs to search for\")\n",
    "#label1.pack()\n",
    "#label1Entry = Entry()\n",
    "#label1Entry.pack()\n",
    "\n",
    "#label2 = Label(text=\"Enter the jobs name to search for\")\n",
    "#label2.pack()\n",
    "#label2Entry = Entry()\n",
    "#label2Entry.pack()\n",
    "\n",
    "#def buttonFunction():\n",
    "#    label1Entry.get()\n",
    "#    label2Entry.get()\n",
    "    \n",
    "#    linkedin = Linkedin()\n",
    "#    linkedin.getJobs()\n",
    "#    resultLabel = Label(text=\"Done\")\n",
    "#    resultLabel.pack()\n",
    "\n",
    "#but = Button(text=\"Result\",command=buttonFunction)\n",
    "#but.pack()\n",
    "\n",
    "#top.mainloop()"
   ]
  },
  {
   "cell_type": "code",
   "execution_count": null,
   "id": "692c001b",
   "metadata": {},
   "outputs": [],
   "source": []
  },
  {
   "cell_type": "code",
   "execution_count": null,
   "id": "6aa60c35",
   "metadata": {},
   "outputs": [],
   "source": []
  },
  {
   "cell_type": "code",
   "execution_count": null,
   "id": "ef54e3ef",
   "metadata": {},
   "outputs": [],
   "source": []
  },
  {
   "cell_type": "code",
   "execution_count": null,
   "id": "98a77820",
   "metadata": {},
   "outputs": [],
   "source": []
  },
  {
   "cell_type": "code",
   "execution_count": null,
   "id": "7366a9a6",
   "metadata": {},
   "outputs": [],
   "source": []
  }
 ],
 "metadata": {
  "kernelspec": {
   "display_name": "Python 3 (ipykernel)",
   "language": "python",
   "name": "python3"
  },
  "language_info": {
   "codemirror_mode": {
    "name": "ipython",
    "version": 3
   },
   "file_extension": ".py",
   "mimetype": "text/x-python",
   "name": "python",
   "nbconvert_exporter": "python",
   "pygments_lexer": "ipython3",
   "version": "3.9.7"
  }
 },
 "nbformat": 4,
 "nbformat_minor": 5
}
